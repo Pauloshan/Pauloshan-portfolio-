{
 "cells": [
  {
   "cell_type": "markdown",
   "id": "aeeebd04",
   "metadata": {
    "papermill": {
     "duration": 0.037934,
     "end_time": "2024-10-20T14:18:18.182915",
     "exception": false,
     "start_time": "2024-10-20T14:18:18.144981",
     "status": "completed"
    },
    "tags": []
   },
   "source": [
    "<h1>Data Analysis with Python Project Documentation: Fast Food Sales Report Analysis</h1>\n"
   ]
  },
  {
   "cell_type": "code",
   "execution_count": null,
   "id": "f3484850",
   "metadata": {},
   "outputs": [],
   "source": []
  },
  {
   "cell_type": "code",
   "execution_count": null,
   "id": "c3ab9bec",
   "metadata": {},
   "outputs": [],
   "source": []
  },
  {
   "cell_type": "code",
   "execution_count": null,
   "id": "42f050a1",
   "metadata": {},
   "outputs": [],
   "source": []
  },
  {
   "cell_type": "markdown",
   "id": "3f1a4ae9",
   "metadata": {
    "papermill": {
     "duration": 0.035415,
     "end_time": "2024-10-20T14:18:18.254743",
     "exception": false,
     "start_time": "2024-10-20T14:18:18.219328",
     "status": "completed"
    },
    "tags": []
   },
   "source": [
    "In this project, we will analyze a public dataset of restaurant sales sourced from Kaggle to uncover insights into fast food sales patterns and trends. By employing exploratory data analysis (EDA) techniques, we will examine the relationships between various factors such as product sales, time of day, and customer demographics. The primary goal is to identify which items are driving revenue and how sales fluctuate throughout the day. Through the use of visualizations like bar charts and pie charts, we aim to present our findings in a clear and engaging manner, making it easier to interpret the data. Ultimately, this analysis will enable us to provide actionable recommendations that can enhance marketing strategies and improve overall sales performance for the restaurant."
   ]
  },
  {
   "cell_type": "markdown",
   "id": "19ccb1f9",
   "metadata": {
    "papermill": {
     "duration": 0.034966,
     "end_time": "2024-10-20T14:18:18.326221",
     "exception": false,
     "start_time": "2024-10-20T14:18:18.291255",
     "status": "completed"
    },
    "tags": []
   },
   "source": [
    "<h2>Project Description: Fast Food Sales Report Analysis.</h2>\n",
    "\n",
    "This project analyzes a dataset derived from the Fast Food Sales Report, which captures detailed sales data from a fast food restaurant. The dataset includes key attributes such as product names, prices, quantities sold, item types (e.g., fast food and beverages), and transaction details.\n",
    "\n",
    "<h3>Column Description:</h3>\n",
    "\n",
    "- order_id: a unique identifier for each order.\n",
    "- date: date of the transaction.\n",
    "- item_name: name of the food.\n",
    "- item_type: category of item (Fastfood or Beverages).\n",
    "- item_price: price of the item for 1 quantity.\n",
    "- Quantity: how much quantity the customer orders.\n",
    "- transaction_amount: the total amount paid by customers.\n",
    "- transaction_type: payment method (cash, online, others).\n",
    "- received_by: gender of the person handling the transaction.\n",
    "- time_of_sale: different times of the day (Morning, Evening, Afternoon, Night, Midnight).\n",
    "\n",
    "    \n",
    "<h4>Primary Objectives:</h4>\n",
    "\n",
    "1. Explore Sales Patterns: By utilizing exploratory data analysis (EDA) techniques, we aim to identify trends in product sales, assess the relationship\n",
    "    between item prices and quantities ordered, and highlight the restaurant's best-selling products.\n",
    "\n",
    "2. Revenue Insights: The project investigates which products generate the most revenue, providing insights into the financial performance of individual\n",
    "   items and categories.\n",
    "\n",
    "3. Visualization: Through various visualizations, including bar charts and scatter plots, we will present clear and intuitive representations of the\n",
    "     data, making it easier to interpret the findings.\n",
    "\n",
    "4. Data Quality Checks: We ensure the integrity of the dataset by conducting checks for missing values, inconsistencies, and potential outliers, which can affect the analysis.\n",
    "\n",
    "5. Actionable Recommendations: Based on the insights gathered, we will provide recommendations for improving product offerings and marketing strategies to enhance customer engagement and boost sales.\n",
    "\n",
    "\n",
    "This project serves as a practical application of data analysis and visualization techniques, showcasing skills in Python, pandas, and Matplotlib, while also emphasizing the importance of data-driven decision-making in the fast food industry.\n",
    "\n",
    "\n",
    "Dataset Credit: This analysis utilizes the Fast Food Sales Report dataset, created by Rajat Surana on Kaggle.\n",
    "\n",
    "\n"
   ]
  },
  {
   "cell_type": "markdown",
   "id": "d7c089fa",
   "metadata": {
    "execution": {
     "iopub.execute_input": "2024-10-20T14:09:23.740445Z",
     "iopub.status.busy": "2024-10-20T14:09:23.739974Z",
     "iopub.status.idle": "2024-10-20T14:09:23.747603Z",
     "shell.execute_reply": "2024-10-20T14:09:23.746215Z",
     "shell.execute_reply.started": "2024-10-20T14:09:23.740404Z"
    },
    "papermill": {
     "duration": 0.034726,
     "end_time": "2024-10-20T14:18:18.396300",
     "exception": false,
     "start_time": "2024-10-20T14:18:18.361574",
     "status": "completed"
    },
    "tags": []
   },
   "source": [
    "<h2>Summary of Insights Derived and Actions Recommended from the Analysis to the restaurant owner</h2>"
   ]
  },
  {
   "cell_type": "markdown",
   "id": "43e62bda",
   "metadata": {
    "papermill": {
     "duration": 0.034804,
     "end_time": "2024-10-20T14:18:18.467382",
     "exception": false,
     "start_time": "2024-10-20T14:18:18.432578",
     "status": "completed"
    },
    "tags": []
   },
   "source": [
    "<ul>\n",
    "<li><strong>Capitalize on Cold Coffee Popularity:</strong> Given Cold Coffee’s high demand and substantial revenue, expand its visibility on the menu and introduce variations (e.g., flavored or seasonal cold coffees) to further boost sales. </li>\n",
    "\n",
    "<li><strong>Upselling Opportunities: </strong> Bundle high-demand items like Cold Coffee with complementary snacks or desserts to increase average order value and enhance customer experience.</li>\n",
    "\n",
    "<li><strong>Targeted Sugarcane Juice Promotions:</strong></li> Sales for Sugarcane Juice dip in the Morning, so consider offering morning promotions or discounts to boost sales during low-demand periods. Leverage the Afternoon peak by enhancing marketing during this time.\n",
    "\n",
    "<li><strong>Maximize Sandwich Revenue:</strong></li>Sandwiches generate the highest revenue during the Night shift, so introduce late-night meal deals or targeted promotions to capitalize on this trend. Boost Afternoon sales through focused marketing efforts, as this period shows the lowest revenue.\n",
    "\n",
    "<li><strong>Frankie Late-Night Promotions:</strong></li>Given Frankie’s popularity in the Night and Evening, promote it as a late-night snack option. Consider offering bundle deals with other popular evening items.\n",
    "\n",
    "<li><strong>Boost Sales for Panipuri:</strong></li>Panipuri is a top-ordered item and performs well across the day. Highlight it in promotions during peak sales times like Evening and Night to drive additional sales.\n",
    "\n",
    "<li><strong>Vadapav and Aalopuri Evening Focus:</strong></li>Both items show potential during late-night snacking, but Aalopuri has a drop in the Evening. Run promotions or upsell these items during the Evening to capture more sales before the Midnight peak.\n",
    "\n",
    "<li><strong>Increase Credit Card Usage:</strong></li>Encourage credit card payments by offering loyalty points, discounts, or special offers, as cash and online payments dominate, leaving room for credit card growth.\n",
    "\n",
    "<li><strong>Seasonal Sandwich Promotions:</strong></li> Since Sandwich sales spike in January, design seasonal promotions to leverage this trend and boost revenue during high-demand periods.\n",
    "\n",
    "<li><strong>Revenue Growth Opportunities:</strong></li> Monthly revenue is growing, but notable dips (e.g., June) suggest the need for promotions or events to boost sales during slow months. Additionally, capitalize on spikes by replicating successful strategies from May, October, and January.\n",
    "\n",
    "</ul>"
   ]
  },
  {
   "cell_type": "markdown",
   "id": "80619327",
   "metadata": {
    "execution": {
     "iopub.execute_input": "2024-10-20T14:17:23.563505Z",
     "iopub.status.busy": "2024-10-20T14:17:23.562550Z",
     "iopub.status.idle": "2024-10-20T14:17:23.569912Z",
     "shell.execute_reply": "2024-10-20T14:17:23.568575Z",
     "shell.execute_reply.started": "2024-10-20T14:17:23.563461Z"
    },
    "papermill": {
     "duration": 0.034695,
     "end_time": "2024-10-20T14:18:18.537314",
     "exception": false,
     "start_time": "2024-10-20T14:18:18.502619",
     "status": "completed"
    },
    "tags": []
   },
   "source": [
    "<h2>To see more detailed analysis with visualization and explanation, please proceed</h2>"
   ]
  },
  {
   "cell_type": "markdown",
   "id": "70a50210",
   "metadata": {
    "papermill": {
     "duration": 0.035322,
     "end_time": "2024-10-20T14:18:18.607750",
     "exception": false,
     "start_time": "2024-10-20T14:18:18.572428",
     "status": "completed"
    },
    "tags": []
   },
   "source": [
    "<h2>1. Data Loading</h2>\n",
    "\n",
    "To begin, I loaded the dataset using Pandas, a versatile data manipulation library in Python. This step ensures the data is ready for analysis."
   ]
  },
  {
   "cell_type": "code",
   "execution_count": 1,
   "id": "1861765f",
   "metadata": {
    "execution": {
     "iopub.execute_input": "2024-10-20T14:18:18.679704Z",
     "iopub.status.busy": "2024-10-20T14:18:18.679245Z",
     "iopub.status.idle": "2024-10-20T14:18:19.838110Z",
     "shell.execute_reply": "2024-10-20T14:18:19.836746Z"
    },
    "papermill": {
     "duration": 1.198144,
     "end_time": "2024-10-20T14:18:19.841026",
     "exception": false,
     "start_time": "2024-10-20T14:18:18.642882",
     "status": "completed"
    },
    "tags": []
   },
   "outputs": [],
   "source": [
    "import pandas as pd"
   ]
  },
  {
   "cell_type": "code",
   "execution_count": 2,
   "id": "8ad82a0b",
   "metadata": {
    "execution": {
     "iopub.execute_input": "2024-10-20T14:18:19.914959Z",
     "iopub.status.busy": "2024-10-20T14:18:19.914363Z",
     "iopub.status.idle": "2024-10-20T14:18:19.948693Z",
     "shell.execute_reply": "2024-10-20T14:18:19.947305Z"
    },
    "papermill": {
     "duration": 0.075276,
     "end_time": "2024-10-20T14:18:19.951904",
     "exception": false,
     "start_time": "2024-10-20T14:18:19.876628",
     "status": "completed"
    },
    "scrolled": true,
    "tags": []
   },
   "outputs": [],
   "source": [
    "df = pd.read_csv('/kaggle/input/fast-food-sales-report/Balaji Fast Food Sales.csv')\n"
   ]
  },
  {
   "cell_type": "markdown",
   "id": "09fc359e",
   "metadata": {
    "papermill": {
     "duration": 0.035254,
     "end_time": "2024-10-20T14:18:20.023199",
     "exception": false,
     "start_time": "2024-10-20T14:18:19.987945",
     "status": "completed"
    },
    "tags": []
   },
   "source": [
    "<h2>2. Initial Data Inspection</h2>\n",
    "\n",
    "Before proceeding with any analysis, it is essential to understand the structure and content of the dataset.         \n",
    "I performed the following steps to gain insights into the data:"
   ]
  },
  {
   "cell_type": "markdown",
   "id": "5abe9e0f",
   "metadata": {
    "papermill": {
     "duration": 0.043261,
     "end_time": "2024-10-20T14:18:20.113256",
     "exception": false,
     "start_time": "2024-10-20T14:18:20.069995",
     "status": "completed"
    },
    "tags": []
   },
   "source": [
    "<h3>2.a Previewing the data:</h3> \n",
    "    \n",
    "    I reviewed the first few rows to get a sense of the values and columns."
   ]
  },
  {
   "cell_type": "code",
   "execution_count": 3,
   "id": "a9f57830",
   "metadata": {
    "execution": {
     "iopub.execute_input": "2024-10-20T14:18:20.190298Z",
     "iopub.status.busy": "2024-10-20T14:18:20.189771Z",
     "iopub.status.idle": "2024-10-20T14:18:20.219395Z",
     "shell.execute_reply": "2024-10-20T14:18:20.217945Z"
    },
    "papermill": {
     "duration": 0.073099,
     "end_time": "2024-10-20T14:18:20.222208",
     "exception": false,
     "start_time": "2024-10-20T14:18:20.149109",
     "status": "completed"
    },
    "tags": []
   },
   "outputs": [
    {
     "data": {
      "text/html": [
       "<div>\n",
       "<style scoped>\n",
       "    .dataframe tbody tr th:only-of-type {\n",
       "        vertical-align: middle;\n",
       "    }\n",
       "\n",
       "    .dataframe tbody tr th {\n",
       "        vertical-align: top;\n",
       "    }\n",
       "\n",
       "    .dataframe thead th {\n",
       "        text-align: right;\n",
       "    }\n",
       "</style>\n",
       "<table border=\"1\" class=\"dataframe\">\n",
       "  <thead>\n",
       "    <tr style=\"text-align: right;\">\n",
       "      <th></th>\n",
       "      <th>order_id</th>\n",
       "      <th>date</th>\n",
       "      <th>item_name</th>\n",
       "      <th>item_type</th>\n",
       "      <th>item_price</th>\n",
       "      <th>quantity</th>\n",
       "      <th>transaction_amount</th>\n",
       "      <th>transaction_type</th>\n",
       "      <th>received_by</th>\n",
       "      <th>time_of_sale</th>\n",
       "    </tr>\n",
       "  </thead>\n",
       "  <tbody>\n",
       "    <tr>\n",
       "      <th>0</th>\n",
       "      <td>1</td>\n",
       "      <td>07-03-2022</td>\n",
       "      <td>Aalopuri</td>\n",
       "      <td>Fastfood</td>\n",
       "      <td>20</td>\n",
       "      <td>13</td>\n",
       "      <td>260</td>\n",
       "      <td>NaN</td>\n",
       "      <td>Mr.</td>\n",
       "      <td>Night</td>\n",
       "    </tr>\n",
       "    <tr>\n",
       "      <th>1</th>\n",
       "      <td>2</td>\n",
       "      <td>8/23/2022</td>\n",
       "      <td>Vadapav</td>\n",
       "      <td>Fastfood</td>\n",
       "      <td>20</td>\n",
       "      <td>15</td>\n",
       "      <td>300</td>\n",
       "      <td>Cash</td>\n",
       "      <td>Mr.</td>\n",
       "      <td>Afternoon</td>\n",
       "    </tr>\n",
       "    <tr>\n",
       "      <th>2</th>\n",
       "      <td>3</td>\n",
       "      <td>11/20/2022</td>\n",
       "      <td>Vadapav</td>\n",
       "      <td>Fastfood</td>\n",
       "      <td>20</td>\n",
       "      <td>1</td>\n",
       "      <td>20</td>\n",
       "      <td>Cash</td>\n",
       "      <td>Mr.</td>\n",
       "      <td>Afternoon</td>\n",
       "    </tr>\n",
       "    <tr>\n",
       "      <th>3</th>\n",
       "      <td>4</td>\n",
       "      <td>02-03-2023</td>\n",
       "      <td>Sugarcane juice</td>\n",
       "      <td>Beverages</td>\n",
       "      <td>25</td>\n",
       "      <td>6</td>\n",
       "      <td>150</td>\n",
       "      <td>Online</td>\n",
       "      <td>Mr.</td>\n",
       "      <td>Night</td>\n",
       "    </tr>\n",
       "    <tr>\n",
       "      <th>4</th>\n",
       "      <td>5</td>\n",
       "      <td>10-02-2022</td>\n",
       "      <td>Sugarcane juice</td>\n",
       "      <td>Beverages</td>\n",
       "      <td>25</td>\n",
       "      <td>8</td>\n",
       "      <td>200</td>\n",
       "      <td>Online</td>\n",
       "      <td>Mr.</td>\n",
       "      <td>Evening</td>\n",
       "    </tr>\n",
       "  </tbody>\n",
       "</table>\n",
       "</div>"
      ],
      "text/plain": [
       "   order_id        date        item_name  item_type  item_price  quantity  \\\n",
       "0         1  07-03-2022         Aalopuri   Fastfood          20        13   \n",
       "1         2   8/23/2022          Vadapav   Fastfood          20        15   \n",
       "2         3  11/20/2022          Vadapav   Fastfood          20         1   \n",
       "3         4  02-03-2023  Sugarcane juice  Beverages          25         6   \n",
       "4         5  10-02-2022  Sugarcane juice  Beverages          25         8   \n",
       "\n",
       "   transaction_amount transaction_type received_by time_of_sale  \n",
       "0                 260              NaN         Mr.        Night  \n",
       "1                 300             Cash         Mr.    Afternoon  \n",
       "2                  20             Cash         Mr.    Afternoon  \n",
       "3                 150           Online         Mr.        Night  \n",
       "4                 200           Online         Mr.      Evening  "
      ]
     },
     "execution_count": 3,
     "metadata": {},
     "output_type": "execute_result"
    }
   ],
   "source": [
    "df.head()"
   ]
  },
  {
   "cell_type": "markdown",
   "id": "a0c24df6",
   "metadata": {
    "papermill": {
     "duration": 0.049496,
     "end_time": "2024-10-20T14:18:20.316942",
     "exception": false,
     "start_time": "2024-10-20T14:18:20.267446",
     "status": "completed"
    },
    "tags": []
   },
   "source": [
    "<h3>2.b Checking the structure and data types:</h3>\n",
    "\n",
    "    I examined the data types, \n",
    "    the number of rows and columns, and any missing values."
   ]
  },
  {
   "cell_type": "code",
   "execution_count": 4,
   "id": "a11230b1",
   "metadata": {
    "execution": {
     "iopub.execute_input": "2024-10-20T14:18:20.401553Z",
     "iopub.status.busy": "2024-10-20T14:18:20.401104Z",
     "iopub.status.idle": "2024-10-20T14:18:20.438436Z",
     "shell.execute_reply": "2024-10-20T14:18:20.437100Z"
    },
    "papermill": {
     "duration": 0.082236,
     "end_time": "2024-10-20T14:18:20.441766",
     "exception": false,
     "start_time": "2024-10-20T14:18:20.359530",
     "status": "completed"
    },
    "tags": []
   },
   "outputs": [
    {
     "name": "stdout",
     "output_type": "stream",
     "text": [
      "<class 'pandas.core.frame.DataFrame'>\n",
      "RangeIndex: 1000 entries, 0 to 999\n",
      "Data columns (total 10 columns):\n",
      " #   Column              Non-Null Count  Dtype \n",
      "---  ------              --------------  ----- \n",
      " 0   order_id            1000 non-null   int64 \n",
      " 1   date                1000 non-null   object\n",
      " 2   item_name           1000 non-null   object\n",
      " 3   item_type           1000 non-null   object\n",
      " 4   item_price          1000 non-null   int64 \n",
      " 5   quantity            1000 non-null   int64 \n",
      " 6   transaction_amount  1000 non-null   int64 \n",
      " 7   transaction_type    893 non-null    object\n",
      " 8   received_by         1000 non-null   object\n",
      " 9   time_of_sale        1000 non-null   object\n",
      "dtypes: int64(4), object(6)\n",
      "memory usage: 78.2+ KB\n"
     ]
    }
   ],
   "source": [
    "df.info()"
   ]
  },
  {
   "cell_type": "markdown",
   "id": "ccb4cc03",
   "metadata": {
    "papermill": {
     "duration": 0.035047,
     "end_time": "2024-10-20T14:18:20.517647",
     "exception": false,
     "start_time": "2024-10-20T14:18:20.482600",
     "status": "completed"
    },
    "tags": []
   },
   "source": [
    "<h3>2.c Identify missing values:</h3> Check if any columns have missing data."
   ]
  },
  {
   "cell_type": "code",
   "execution_count": 5,
   "id": "6d300b98",
   "metadata": {
    "execution": {
     "iopub.execute_input": "2024-10-20T14:18:20.591429Z",
     "iopub.status.busy": "2024-10-20T14:18:20.590282Z",
     "iopub.status.idle": "2024-10-20T14:18:20.601135Z",
     "shell.execute_reply": "2024-10-20T14:18:20.599897Z"
    },
    "papermill": {
     "duration": 0.050337,
     "end_time": "2024-10-20T14:18:20.603666",
     "exception": false,
     "start_time": "2024-10-20T14:18:20.553329",
     "status": "completed"
    },
    "tags": []
   },
   "outputs": [
    {
     "data": {
      "text/plain": [
       "order_id                0\n",
       "date                    0\n",
       "item_name               0\n",
       "item_type               0\n",
       "item_price              0\n",
       "quantity                0\n",
       "transaction_amount      0\n",
       "transaction_type      107\n",
       "received_by             0\n",
       "time_of_sale            0\n",
       "dtype: int64"
      ]
     },
     "execution_count": 5,
     "metadata": {},
     "output_type": "execute_result"
    }
   ],
   "source": [
    "df.isnull().sum()"
   ]
  },
  {
   "cell_type": "markdown",
   "id": "71559954",
   "metadata": {
    "papermill": {
     "duration": 0.035377,
     "end_time": "2024-10-20T14:18:20.675858",
     "exception": false,
     "start_time": "2024-10-20T14:18:20.640481",
     "status": "completed"
    },
    "tags": []
   },
   "source": [
    "Upon checking the empty values, we can see that the column \"transaction_type\" has 107 empty values."
   ]
  },
  {
   "cell_type": "markdown",
   "id": "f7512147",
   "metadata": {
    "papermill": {
     "duration": 0.036495,
     "end_time": "2024-10-20T14:18:20.748196",
     "exception": false,
     "start_time": "2024-10-20T14:18:20.711701",
     "status": "completed"
    },
    "tags": []
   },
   "source": [
    "In data analysis, addressing missing values is crucial for ensuring data quality and reliable results. \n",
    "    Below are the steps we would do in such situations:\n",
    "\n",
    "   <b> 1. Understand the Business Context</b>\n",
    "   \n",
    "   Consult stakeholders: Assess the importance of the missing data.\n",
    "        Investigate reasons: Understand the causes behind data gaps.\n",
    "        Fill the empty values with correct data if possible\n",
    "    \n",
    " <b>2. Analyze the Impact of Missing Data </b>\n",
    " \n",
    " Quantify extent: Measure the percentage of missing values in the dataset.\n",
    "    \n",
    "  <b>  3. Choose an Appropriate Method </b>\n",
    "  \n",
    "  Remove irrelevant data: Drop rows or columns with minimal missing values if they are not critical.\n",
    "        Impute missing values: Use methods such as mean, median, or predictive modeling for important data points.\n",
    "                                                                                       \n",
    "  <b>  4. Communicate Clearly </b>\n",
    "  \n",
    "Document methods: Clearly outline how missing values were handled and any potential impacts on the analysis.\n",
    "        Provide recommendations: Suggest ways to enhance future data collection processes.                                                                                     \n",
    "   <b> 5. Maintain Data Integrity </b>\n",
    "   \n",
    "Validate results: Ensure the quality of analysis after handling missing data.\n",
    "        Perform sensitivity analyses: Evaluate how different handling methods affect outcomes"
   ]
  },
  {
   "cell_type": "code",
   "execution_count": 6,
   "id": "01da9cc4",
   "metadata": {
    "execution": {
     "iopub.execute_input": "2024-10-20T14:18:20.822487Z",
     "iopub.status.busy": "2024-10-20T14:18:20.822050Z",
     "iopub.status.idle": "2024-10-20T14:18:20.832304Z",
     "shell.execute_reply": "2024-10-20T14:18:20.831102Z"
    },
    "papermill": {
     "duration": 0.050305,
     "end_time": "2024-10-20T14:18:20.834829",
     "exception": false,
     "start_time": "2024-10-20T14:18:20.784524",
     "status": "completed"
    },
    "tags": []
   },
   "outputs": [
    {
     "data": {
      "text/plain": [
       "0         NaN\n",
       "1        Cash\n",
       "2        Cash\n",
       "3      Online\n",
       "4      Online\n",
       "        ...  \n",
       "995       NaN\n",
       "996       NaN\n",
       "997       NaN\n",
       "998       NaN\n",
       "999    Online\n",
       "Name: transaction_type, Length: 1000, dtype: object"
      ]
     },
     "execution_count": 6,
     "metadata": {},
     "output_type": "execute_result"
    }
   ],
   "source": [
    "df['transaction_type']"
   ]
  },
  {
   "cell_type": "markdown",
   "id": "a9e589ba",
   "metadata": {
    "papermill": {
     "duration": 0.035629,
     "end_time": "2024-10-20T14:18:20.906463",
     "exception": false,
     "start_time": "2024-10-20T14:18:20.870834",
     "status": "completed"
    },
    "tags": []
   },
   "source": [
    "Now we see that the values of the column 'transaction_type' consists of Cash, Online, and NaN. Let's suppose that have consulted the owner of the restaurant or the source of this data and learned that these missing values are supposed to be \"Credit Cards\""
   ]
  },
  {
   "cell_type": "markdown",
   "id": "8863a110",
   "metadata": {
    "papermill": {
     "duration": 0.037039,
     "end_time": "2024-10-20T14:18:20.979520",
     "exception": false,
     "start_time": "2024-10-20T14:18:20.942481",
     "status": "completed"
    },
    "tags": []
   },
   "source": [
    "We can now handle the missing data by replacing it with the value \"Credit Card\""
   ]
  },
  {
   "cell_type": "markdown",
   "id": "c4d65ce2",
   "metadata": {
    "papermill": {
     "duration": 0.041114,
     "end_time": "2024-10-20T14:18:21.073702",
     "exception": false,
     "start_time": "2024-10-20T14:18:21.032588",
     "status": "completed"
    },
    "tags": []
   },
   "source": [
    "<h2>3. Data Cleaning</h2>"
   ]
  },
  {
   "cell_type": "markdown",
   "id": "f9758d95",
   "metadata": {
    "papermill": {
     "duration": 0.036072,
     "end_time": "2024-10-20T14:18:21.149281",
     "exception": false,
     "start_time": "2024-10-20T14:18:21.113209",
     "status": "completed"
    },
    "tags": []
   },
   "source": [
    "Fill missing values with a specific value:"
   ]
  },
  {
   "cell_type": "code",
   "execution_count": 7,
   "id": "4302e162",
   "metadata": {
    "execution": {
     "iopub.execute_input": "2024-10-20T14:18:21.229098Z",
     "iopub.status.busy": "2024-10-20T14:18:21.228513Z",
     "iopub.status.idle": "2024-10-20T14:18:21.236987Z",
     "shell.execute_reply": "2024-10-20T14:18:21.235639Z"
    },
    "papermill": {
     "duration": 0.053881,
     "end_time": "2024-10-20T14:18:21.239672",
     "exception": false,
     "start_time": "2024-10-20T14:18:21.185791",
     "status": "completed"
    },
    "tags": []
   },
   "outputs": [],
   "source": [
    "df['transaction_type'] = df['transaction_type'].fillna(\"Credit Card\")"
   ]
  },
  {
   "cell_type": "code",
   "execution_count": 8,
   "id": "334a3e0d",
   "metadata": {
    "execution": {
     "iopub.execute_input": "2024-10-20T14:18:21.316859Z",
     "iopub.status.busy": "2024-10-20T14:18:21.315757Z",
     "iopub.status.idle": "2024-10-20T14:18:21.329649Z",
     "shell.execute_reply": "2024-10-20T14:18:21.328095Z"
    },
    "papermill": {
     "duration": 0.055857,
     "end_time": "2024-10-20T14:18:21.332358",
     "exception": false,
     "start_time": "2024-10-20T14:18:21.276501",
     "status": "completed"
    },
    "tags": []
   },
   "outputs": [
    {
     "data": {
      "text/plain": [
       "order_id              0\n",
       "date                  0\n",
       "item_name             0\n",
       "item_type             0\n",
       "item_price            0\n",
       "quantity              0\n",
       "transaction_amount    0\n",
       "transaction_type      0\n",
       "received_by           0\n",
       "time_of_sale          0\n",
       "dtype: int64"
      ]
     },
     "execution_count": 8,
     "metadata": {},
     "output_type": "execute_result"
    }
   ],
   "source": [
    "df.isnull().sum()"
   ]
  },
  {
   "cell_type": "markdown",
   "id": "0897f4c8",
   "metadata": {
    "papermill": {
     "duration": 0.042101,
     "end_time": "2024-10-20T14:18:21.412282",
     "exception": false,
     "start_time": "2024-10-20T14:18:21.370181",
     "status": "completed"
    },
    "tags": []
   },
   "source": [
    "<h3>3.a Identifying and Removing Duplicates</h3>"
   ]
  },
  {
   "cell_type": "markdown",
   "id": "e014f8c1",
   "metadata": {
    "papermill": {
     "duration": 0.038952,
     "end_time": "2024-10-20T14:18:21.489528",
     "exception": false,
     "start_time": "2024-10-20T14:18:21.450576",
     "status": "completed"
    },
    "tags": []
   },
   "source": [
    "We can sum the boolean Series to get the total number of duplicate rows using the duplicated().sum() method."
   ]
  },
  {
   "cell_type": "code",
   "execution_count": 9,
   "id": "64a7f6fb",
   "metadata": {
    "execution": {
     "iopub.execute_input": "2024-10-20T14:18:21.570813Z",
     "iopub.status.busy": "2024-10-20T14:18:21.570265Z",
     "iopub.status.idle": "2024-10-20T14:18:21.583705Z",
     "shell.execute_reply": "2024-10-20T14:18:21.582322Z"
    },
    "papermill": {
     "duration": 0.055062,
     "end_time": "2024-10-20T14:18:21.586652",
     "exception": false,
     "start_time": "2024-10-20T14:18:21.531590",
     "status": "completed"
    },
    "tags": []
   },
   "outputs": [
    {
     "data": {
      "text/plain": [
       "0"
      ]
     },
     "execution_count": 9,
     "metadata": {},
     "output_type": "execute_result"
    }
   ],
   "source": [
    "df.duplicated().sum()"
   ]
  },
  {
   "cell_type": "markdown",
   "id": "bb34599f",
   "metadata": {
    "papermill": {
     "duration": 0.036654,
     "end_time": "2024-10-20T14:18:21.661109",
     "exception": false,
     "start_time": "2024-10-20T14:18:21.624455",
     "status": "completed"
    },
    "tags": []
   },
   "source": [
    "As shown above, our data set does not have any duplicate rows. That is good.\n",
    "But just in case we do, we would use the drop_duplicates() method."
   ]
  },
  {
   "cell_type": "code",
   "execution_count": 10,
   "id": "6cc74d57",
   "metadata": {
    "execution": {
     "iopub.execute_input": "2024-10-20T14:18:21.795238Z",
     "iopub.status.busy": "2024-10-20T14:18:21.794208Z",
     "iopub.status.idle": "2024-10-20T14:18:21.804264Z",
     "shell.execute_reply": "2024-10-20T14:18:21.802850Z"
    },
    "papermill": {
     "duration": 0.051854,
     "end_time": "2024-10-20T14:18:21.807804",
     "exception": false,
     "start_time": "2024-10-20T14:18:21.755950",
     "status": "completed"
    },
    "tags": []
   },
   "outputs": [],
   "source": [
    "df = df.drop_duplicates()"
   ]
  },
  {
   "cell_type": "markdown",
   "id": "4292acd6",
   "metadata": {
    "papermill": {
     "duration": 0.036033,
     "end_time": "2024-10-20T14:18:21.884841",
     "exception": false,
     "start_time": "2024-10-20T14:18:21.848808",
     "status": "completed"
    },
    "tags": []
   },
   "source": [
    "<h3>3.b Replacing Values</h3>"
   ]
  },
  {
   "cell_type": "markdown",
   "id": "6457fcba",
   "metadata": {
    "papermill": {
     "duration": 0.036874,
     "end_time": "2024-10-20T14:18:21.958563",
     "exception": false,
     "start_time": "2024-10-20T14:18:21.921689",
     "status": "completed"
    },
    "tags": []
   },
   "source": [
    "To enhance the clarity and interpretability of our data analysis reports, we will replace the values 'Mr.' and 'Mrs.' with 'Male' and 'Female,' respectively. This change will make the dataset more straightforward and easier to understand for analysis."
   ]
  },
  {
   "cell_type": "code",
   "execution_count": 11,
   "id": "e4f0f02c",
   "metadata": {
    "execution": {
     "iopub.execute_input": "2024-10-20T14:18:22.035100Z",
     "iopub.status.busy": "2024-10-20T14:18:22.034507Z",
     "iopub.status.idle": "2024-10-20T14:18:22.043351Z",
     "shell.execute_reply": "2024-10-20T14:18:22.042029Z"
    },
    "papermill": {
     "duration": 0.050609,
     "end_time": "2024-10-20T14:18:22.046285",
     "exception": false,
     "start_time": "2024-10-20T14:18:21.995676",
     "status": "completed"
    },
    "tags": []
   },
   "outputs": [],
   "source": [
    "df['received_by'] = df['received_by'].replace(['Mr.','Mrs.'],['Male','Female'])"
   ]
  },
  {
   "cell_type": "markdown",
   "id": "8c60e695",
   "metadata": {
    "papermill": {
     "duration": 0.03655,
     "end_time": "2024-10-20T14:18:22.124265",
     "exception": false,
     "start_time": "2024-10-20T14:18:22.087715",
     "status": "completed"
    },
    "tags": []
   },
   "source": [
    "<h3>3.c Converting data types: Adjusted data types for specific columns where necessary.   </h3>                                             "
   ]
  },
  {
   "cell_type": "markdown",
   "id": "9bf42c2c",
   "metadata": {
    "papermill": {
     "duration": 0.036785,
     "end_time": "2024-10-20T14:18:22.197765",
     "exception": false,
     "start_time": "2024-10-20T14:18:22.160980",
     "status": "completed"
    },
    "tags": []
   },
   "source": [
    "While reviewing the data types of each column, we found that the 'date' column is of String data type, which is why they appear as objects in the Dtype column. Since we need these columns in a proper date/time format, we'll convert them accordingly."
   ]
  },
  {
   "cell_type": "markdown",
   "id": "b381484a",
   "metadata": {
    "papermill": {
     "duration": 0.036465,
     "end_time": "2024-10-20T14:18:22.271315",
     "exception": false,
     "start_time": "2024-10-20T14:18:22.234850",
     "status": "completed"
    },
    "tags": []
   },
   "source": [
    "In addition, we also noticed that the format of the date column is not uniformed. We have date formats of 'mm/dd/yyyy' and 'mm-dd-yyyy'. Before converting them to datetime format, we need to make them uniformed first. We will replace the '/' with a '-' instead."
   ]
  },
  {
   "cell_type": "code",
   "execution_count": 12,
   "id": "77c6161d",
   "metadata": {
    "execution": {
     "iopub.execute_input": "2024-10-20T14:18:22.347680Z",
     "iopub.status.busy": "2024-10-20T14:18:22.347196Z",
     "iopub.status.idle": "2024-10-20T14:18:22.359452Z",
     "shell.execute_reply": "2024-10-20T14:18:22.358249Z"
    },
    "papermill": {
     "duration": 0.054409,
     "end_time": "2024-10-20T14:18:22.362562",
     "exception": false,
     "start_time": "2024-10-20T14:18:22.308153",
     "status": "completed"
    },
    "tags": []
   },
   "outputs": [
    {
     "data": {
      "text/plain": [
       "0      07-03-2022\n",
       "1       8-23-2022\n",
       "2      11-20-2022\n",
       "3      02-03-2023\n",
       "4      10-02-2022\n",
       "          ...    \n",
       "995     3-19-2023\n",
       "996     9-20-2022\n",
       "997     1-26-2023\n",
       "998     8-27-2022\n",
       "999     5-29-2022\n",
       "Name: date, Length: 1000, dtype: object"
      ]
     },
     "execution_count": 12,
     "metadata": {},
     "output_type": "execute_result"
    }
   ],
   "source": [
    "df['date'] = df['date'].str.replace('/','-')\n",
    "df['date']"
   ]
  },
  {
   "cell_type": "markdown",
   "id": "b6fca576",
   "metadata": {
    "papermill": {
     "duration": 0.036347,
     "end_time": "2024-10-20T14:18:22.440227",
     "exception": false,
     "start_time": "2024-10-20T14:18:22.403880",
     "status": "completed"
    },
    "tags": []
   },
   "source": [
    "Now it looks much better. Let us convert this 'date' column into a date data type"
   ]
  },
  {
   "cell_type": "code",
   "execution_count": 13,
   "id": "0c790ff7",
   "metadata": {
    "execution": {
     "iopub.execute_input": "2024-10-20T14:18:22.519988Z",
     "iopub.status.busy": "2024-10-20T14:18:22.519543Z",
     "iopub.status.idle": "2024-10-20T14:18:22.544418Z",
     "shell.execute_reply": "2024-10-20T14:18:22.543071Z"
    },
    "papermill": {
     "duration": 0.068821,
     "end_time": "2024-10-20T14:18:22.547050",
     "exception": false,
     "start_time": "2024-10-20T14:18:22.478229",
     "status": "completed"
    },
    "tags": []
   },
   "outputs": [
    {
     "name": "stdout",
     "output_type": "stream",
     "text": [
      "<class 'pandas.core.frame.DataFrame'>\n",
      "RangeIndex: 1000 entries, 0 to 999\n",
      "Data columns (total 10 columns):\n",
      " #   Column              Non-Null Count  Dtype         \n",
      "---  ------              --------------  -----         \n",
      " 0   order_id            1000 non-null   int64         \n",
      " 1   date                1000 non-null   datetime64[ns]\n",
      " 2   item_name           1000 non-null   object        \n",
      " 3   item_type           1000 non-null   object        \n",
      " 4   item_price          1000 non-null   int64         \n",
      " 5   quantity            1000 non-null   int64         \n",
      " 6   transaction_amount  1000 non-null   int64         \n",
      " 7   transaction_type    1000 non-null   object        \n",
      " 8   received_by         1000 non-null   object        \n",
      " 9   time_of_sale        1000 non-null   object        \n",
      "dtypes: datetime64[ns](1), int64(4), object(5)\n",
      "memory usage: 78.2+ KB\n"
     ]
    }
   ],
   "source": [
    "df['date'] = pd.to_datetime(df['date'])\n",
    "df.info()"
   ]
  },
  {
   "cell_type": "markdown",
   "id": "7109924c",
   "metadata": {
    "papermill": {
     "duration": 0.03645,
     "end_time": "2024-10-20T14:18:22.620184",
     "exception": false,
     "start_time": "2024-10-20T14:18:22.583734",
     "status": "completed"
    },
    "tags": []
   },
   "source": [
    "Now that we have the correct data types for each column, let's take a final look at our dataset to ensure we haven’t overlooked anything and that it’s ready for initial exploration."
   ]
  },
  {
   "cell_type": "markdown",
   "id": "0619846f",
   "metadata": {
    "papermill": {
     "duration": 0.036428,
     "end_time": "2024-10-20T14:18:22.693207",
     "exception": false,
     "start_time": "2024-10-20T14:18:22.656779",
     "status": "completed"
    },
    "tags": []
   },
   "source": [
    "We will verify the unique values in each categorical column to ensure there are no misspellings or inconsistencies"
   ]
  },
  {
   "cell_type": "code",
   "execution_count": 14,
   "id": "6b811d03",
   "metadata": {
    "execution": {
     "iopub.execute_input": "2024-10-20T14:18:22.769083Z",
     "iopub.status.busy": "2024-10-20T14:18:22.768191Z",
     "iopub.status.idle": "2024-10-20T14:18:22.780576Z",
     "shell.execute_reply": "2024-10-20T14:18:22.778825Z"
    },
    "papermill": {
     "duration": 0.053786,
     "end_time": "2024-10-20T14:18:22.783787",
     "exception": false,
     "start_time": "2024-10-20T14:18:22.730001",
     "status": "completed"
    },
    "tags": []
   },
   "outputs": [
    {
     "name": "stdout",
     "output_type": "stream",
     "text": [
      "item_name ['Aalopuri' 'Vadapav' 'Sugarcane juice' 'Panipuri' 'Frankie' 'Sandwich'\n",
      " 'Cold coffee']\n",
      "item_type ['Fastfood' 'Beverages']\n",
      "transaction_type ['Credit Card' 'Cash' 'Online']\n",
      "received_by ['Male' 'Female']\n",
      "time_of_sale ['Night' 'Afternoon' 'Evening' 'Morning' 'Midnight']\n"
     ]
    }
   ],
   "source": [
    "\n",
    "unique_values = df.select_dtypes(include = 'object').apply(lambda x: x.unique())\n",
    "for column, values in unique_values.items():\n",
    "    print(column, values)\n"
   ]
  },
  {
   "cell_type": "code",
   "execution_count": 15,
   "id": "61deaf53",
   "metadata": {
    "execution": {
     "iopub.execute_input": "2024-10-20T14:18:22.860072Z",
     "iopub.status.busy": "2024-10-20T14:18:22.859621Z",
     "iopub.status.idle": "2024-10-20T14:18:22.889170Z",
     "shell.execute_reply": "2024-10-20T14:18:22.887993Z"
    },
    "papermill": {
     "duration": 0.07053,
     "end_time": "2024-10-20T14:18:22.891718",
     "exception": false,
     "start_time": "2024-10-20T14:18:22.821188",
     "status": "completed"
    },
    "tags": []
   },
   "outputs": [
    {
     "data": {
      "text/html": [
       "<div>\n",
       "<style scoped>\n",
       "    .dataframe tbody tr th:only-of-type {\n",
       "        vertical-align: middle;\n",
       "    }\n",
       "\n",
       "    .dataframe tbody tr th {\n",
       "        vertical-align: top;\n",
       "    }\n",
       "\n",
       "    .dataframe thead th {\n",
       "        text-align: right;\n",
       "    }\n",
       "</style>\n",
       "<table border=\"1\" class=\"dataframe\">\n",
       "  <thead>\n",
       "    <tr style=\"text-align: right;\">\n",
       "      <th></th>\n",
       "      <th>order_id</th>\n",
       "      <th>date</th>\n",
       "      <th>item_name</th>\n",
       "      <th>item_type</th>\n",
       "      <th>item_price</th>\n",
       "      <th>quantity</th>\n",
       "      <th>transaction_amount</th>\n",
       "      <th>transaction_type</th>\n",
       "      <th>received_by</th>\n",
       "      <th>time_of_sale</th>\n",
       "    </tr>\n",
       "  </thead>\n",
       "  <tbody>\n",
       "    <tr>\n",
       "      <th>0</th>\n",
       "      <td>1</td>\n",
       "      <td>2022-07-03</td>\n",
       "      <td>Aalopuri</td>\n",
       "      <td>Fastfood</td>\n",
       "      <td>20</td>\n",
       "      <td>13</td>\n",
       "      <td>260</td>\n",
       "      <td>Credit Card</td>\n",
       "      <td>Male</td>\n",
       "      <td>Night</td>\n",
       "    </tr>\n",
       "    <tr>\n",
       "      <th>1</th>\n",
       "      <td>2</td>\n",
       "      <td>2022-08-23</td>\n",
       "      <td>Vadapav</td>\n",
       "      <td>Fastfood</td>\n",
       "      <td>20</td>\n",
       "      <td>15</td>\n",
       "      <td>300</td>\n",
       "      <td>Cash</td>\n",
       "      <td>Male</td>\n",
       "      <td>Afternoon</td>\n",
       "    </tr>\n",
       "    <tr>\n",
       "      <th>2</th>\n",
       "      <td>3</td>\n",
       "      <td>2022-11-20</td>\n",
       "      <td>Vadapav</td>\n",
       "      <td>Fastfood</td>\n",
       "      <td>20</td>\n",
       "      <td>1</td>\n",
       "      <td>20</td>\n",
       "      <td>Cash</td>\n",
       "      <td>Male</td>\n",
       "      <td>Afternoon</td>\n",
       "    </tr>\n",
       "    <tr>\n",
       "      <th>3</th>\n",
       "      <td>4</td>\n",
       "      <td>2023-02-03</td>\n",
       "      <td>Sugarcane juice</td>\n",
       "      <td>Beverages</td>\n",
       "      <td>25</td>\n",
       "      <td>6</td>\n",
       "      <td>150</td>\n",
       "      <td>Online</td>\n",
       "      <td>Male</td>\n",
       "      <td>Night</td>\n",
       "    </tr>\n",
       "    <tr>\n",
       "      <th>4</th>\n",
       "      <td>5</td>\n",
       "      <td>2022-10-02</td>\n",
       "      <td>Sugarcane juice</td>\n",
       "      <td>Beverages</td>\n",
       "      <td>25</td>\n",
       "      <td>8</td>\n",
       "      <td>200</td>\n",
       "      <td>Online</td>\n",
       "      <td>Male</td>\n",
       "      <td>Evening</td>\n",
       "    </tr>\n",
       "    <tr>\n",
       "      <th>5</th>\n",
       "      <td>6</td>\n",
       "      <td>2022-11-14</td>\n",
       "      <td>Vadapav</td>\n",
       "      <td>Fastfood</td>\n",
       "      <td>20</td>\n",
       "      <td>10</td>\n",
       "      <td>200</td>\n",
       "      <td>Cash</td>\n",
       "      <td>Male</td>\n",
       "      <td>Evening</td>\n",
       "    </tr>\n",
       "    <tr>\n",
       "      <th>6</th>\n",
       "      <td>7</td>\n",
       "      <td>2022-05-03</td>\n",
       "      <td>Sugarcane juice</td>\n",
       "      <td>Beverages</td>\n",
       "      <td>25</td>\n",
       "      <td>9</td>\n",
       "      <td>225</td>\n",
       "      <td>Cash</td>\n",
       "      <td>Male</td>\n",
       "      <td>Evening</td>\n",
       "    </tr>\n",
       "    <tr>\n",
       "      <th>7</th>\n",
       "      <td>8</td>\n",
       "      <td>2022-12-22</td>\n",
       "      <td>Panipuri</td>\n",
       "      <td>Fastfood</td>\n",
       "      <td>20</td>\n",
       "      <td>14</td>\n",
       "      <td>280</td>\n",
       "      <td>Online</td>\n",
       "      <td>Male</td>\n",
       "      <td>Night</td>\n",
       "    </tr>\n",
       "    <tr>\n",
       "      <th>8</th>\n",
       "      <td>9</td>\n",
       "      <td>2022-06-10</td>\n",
       "      <td>Panipuri</td>\n",
       "      <td>Fastfood</td>\n",
       "      <td>20</td>\n",
       "      <td>1</td>\n",
       "      <td>20</td>\n",
       "      <td>Cash</td>\n",
       "      <td>Female</td>\n",
       "      <td>Morning</td>\n",
       "    </tr>\n",
       "    <tr>\n",
       "      <th>9</th>\n",
       "      <td>10</td>\n",
       "      <td>2022-09-16</td>\n",
       "      <td>Panipuri</td>\n",
       "      <td>Fastfood</td>\n",
       "      <td>20</td>\n",
       "      <td>5</td>\n",
       "      <td>100</td>\n",
       "      <td>Online</td>\n",
       "      <td>Male</td>\n",
       "      <td>Afternoon</td>\n",
       "    </tr>\n",
       "    <tr>\n",
       "      <th>10</th>\n",
       "      <td>11</td>\n",
       "      <td>2022-12-01</td>\n",
       "      <td>Frankie</td>\n",
       "      <td>Fastfood</td>\n",
       "      <td>50</td>\n",
       "      <td>8</td>\n",
       "      <td>400</td>\n",
       "      <td>Online</td>\n",
       "      <td>Female</td>\n",
       "      <td>Afternoon</td>\n",
       "    </tr>\n",
       "    <tr>\n",
       "      <th>11</th>\n",
       "      <td>12</td>\n",
       "      <td>2022-07-12</td>\n",
       "      <td>Vadapav</td>\n",
       "      <td>Fastfood</td>\n",
       "      <td>20</td>\n",
       "      <td>8</td>\n",
       "      <td>160</td>\n",
       "      <td>Online</td>\n",
       "      <td>Female</td>\n",
       "      <td>Night</td>\n",
       "    </tr>\n",
       "    <tr>\n",
       "      <th>12</th>\n",
       "      <td>13</td>\n",
       "      <td>2022-12-22</td>\n",
       "      <td>Panipuri</td>\n",
       "      <td>Fastfood</td>\n",
       "      <td>20</td>\n",
       "      <td>9</td>\n",
       "      <td>180</td>\n",
       "      <td>Online</td>\n",
       "      <td>Female</td>\n",
       "      <td>Afternoon</td>\n",
       "    </tr>\n",
       "    <tr>\n",
       "      <th>13</th>\n",
       "      <td>14</td>\n",
       "      <td>2022-11-25</td>\n",
       "      <td>Frankie</td>\n",
       "      <td>Fastfood</td>\n",
       "      <td>50</td>\n",
       "      <td>4</td>\n",
       "      <td>200</td>\n",
       "      <td>Online</td>\n",
       "      <td>Male</td>\n",
       "      <td>Morning</td>\n",
       "    </tr>\n",
       "    <tr>\n",
       "      <th>14</th>\n",
       "      <td>15</td>\n",
       "      <td>2023-02-03</td>\n",
       "      <td>Aalopuri</td>\n",
       "      <td>Fastfood</td>\n",
       "      <td>20</td>\n",
       "      <td>3</td>\n",
       "      <td>60</td>\n",
       "      <td>Cash</td>\n",
       "      <td>Female</td>\n",
       "      <td>Evening</td>\n",
       "    </tr>\n",
       "    <tr>\n",
       "      <th>15</th>\n",
       "      <td>16</td>\n",
       "      <td>2022-04-14</td>\n",
       "      <td>Sandwich</td>\n",
       "      <td>Fastfood</td>\n",
       "      <td>60</td>\n",
       "      <td>11</td>\n",
       "      <td>660</td>\n",
       "      <td>Credit Card</td>\n",
       "      <td>Female</td>\n",
       "      <td>Midnight</td>\n",
       "    </tr>\n",
       "    <tr>\n",
       "      <th>16</th>\n",
       "      <td>17</td>\n",
       "      <td>2022-10-16</td>\n",
       "      <td>Panipuri</td>\n",
       "      <td>Fastfood</td>\n",
       "      <td>20</td>\n",
       "      <td>11</td>\n",
       "      <td>220</td>\n",
       "      <td>Cash</td>\n",
       "      <td>Female</td>\n",
       "      <td>Morning</td>\n",
       "    </tr>\n",
       "    <tr>\n",
       "      <th>17</th>\n",
       "      <td>18</td>\n",
       "      <td>2022-11-05</td>\n",
       "      <td>Panipuri</td>\n",
       "      <td>Fastfood</td>\n",
       "      <td>20</td>\n",
       "      <td>10</td>\n",
       "      <td>200</td>\n",
       "      <td>Cash</td>\n",
       "      <td>Female</td>\n",
       "      <td>Night</td>\n",
       "    </tr>\n",
       "    <tr>\n",
       "      <th>18</th>\n",
       "      <td>19</td>\n",
       "      <td>2022-08-22</td>\n",
       "      <td>Panipuri</td>\n",
       "      <td>Fastfood</td>\n",
       "      <td>20</td>\n",
       "      <td>11</td>\n",
       "      <td>220</td>\n",
       "      <td>Cash</td>\n",
       "      <td>Female</td>\n",
       "      <td>Night</td>\n",
       "    </tr>\n",
       "    <tr>\n",
       "      <th>19</th>\n",
       "      <td>20</td>\n",
       "      <td>2022-09-15</td>\n",
       "      <td>Cold coffee</td>\n",
       "      <td>Beverages</td>\n",
       "      <td>40</td>\n",
       "      <td>10</td>\n",
       "      <td>400</td>\n",
       "      <td>Online</td>\n",
       "      <td>Male</td>\n",
       "      <td>Night</td>\n",
       "    </tr>\n",
       "    <tr>\n",
       "      <th>20</th>\n",
       "      <td>21</td>\n",
       "      <td>2022-12-21</td>\n",
       "      <td>Cold coffee</td>\n",
       "      <td>Beverages</td>\n",
       "      <td>40</td>\n",
       "      <td>15</td>\n",
       "      <td>600</td>\n",
       "      <td>Cash</td>\n",
       "      <td>Male</td>\n",
       "      <td>Evening</td>\n",
       "    </tr>\n",
       "    <tr>\n",
       "      <th>21</th>\n",
       "      <td>22</td>\n",
       "      <td>2022-10-04</td>\n",
       "      <td>Sugarcane juice</td>\n",
       "      <td>Beverages</td>\n",
       "      <td>25</td>\n",
       "      <td>12</td>\n",
       "      <td>300</td>\n",
       "      <td>Online</td>\n",
       "      <td>Male</td>\n",
       "      <td>Evening</td>\n",
       "    </tr>\n",
       "    <tr>\n",
       "      <th>22</th>\n",
       "      <td>23</td>\n",
       "      <td>2022-05-26</td>\n",
       "      <td>Sandwich</td>\n",
       "      <td>Fastfood</td>\n",
       "      <td>60</td>\n",
       "      <td>3</td>\n",
       "      <td>180</td>\n",
       "      <td>Online</td>\n",
       "      <td>Male</td>\n",
       "      <td>Midnight</td>\n",
       "    </tr>\n",
       "    <tr>\n",
       "      <th>23</th>\n",
       "      <td>24</td>\n",
       "      <td>2023-02-11</td>\n",
       "      <td>Sugarcane juice</td>\n",
       "      <td>Beverages</td>\n",
       "      <td>25</td>\n",
       "      <td>10</td>\n",
       "      <td>250</td>\n",
       "      <td>Online</td>\n",
       "      <td>Male</td>\n",
       "      <td>Afternoon</td>\n",
       "    </tr>\n",
       "    <tr>\n",
       "      <th>24</th>\n",
       "      <td>25</td>\n",
       "      <td>2022-08-31</td>\n",
       "      <td>Sandwich</td>\n",
       "      <td>Fastfood</td>\n",
       "      <td>60</td>\n",
       "      <td>1</td>\n",
       "      <td>60</td>\n",
       "      <td>Online</td>\n",
       "      <td>Female</td>\n",
       "      <td>Evening</td>\n",
       "    </tr>\n",
       "    <tr>\n",
       "      <th>25</th>\n",
       "      <td>26</td>\n",
       "      <td>2022-08-18</td>\n",
       "      <td>Sugarcane juice</td>\n",
       "      <td>Beverages</td>\n",
       "      <td>25</td>\n",
       "      <td>4</td>\n",
       "      <td>100</td>\n",
       "      <td>Cash</td>\n",
       "      <td>Male</td>\n",
       "      <td>Afternoon</td>\n",
       "    </tr>\n",
       "    <tr>\n",
       "      <th>26</th>\n",
       "      <td>27</td>\n",
       "      <td>2022-10-12</td>\n",
       "      <td>Cold coffee</td>\n",
       "      <td>Beverages</td>\n",
       "      <td>40</td>\n",
       "      <td>11</td>\n",
       "      <td>440</td>\n",
       "      <td>Online</td>\n",
       "      <td>Female</td>\n",
       "      <td>Afternoon</td>\n",
       "    </tr>\n",
       "    <tr>\n",
       "      <th>27</th>\n",
       "      <td>28</td>\n",
       "      <td>2023-01-06</td>\n",
       "      <td>Cold coffee</td>\n",
       "      <td>Beverages</td>\n",
       "      <td>40</td>\n",
       "      <td>10</td>\n",
       "      <td>400</td>\n",
       "      <td>Online</td>\n",
       "      <td>Female</td>\n",
       "      <td>Afternoon</td>\n",
       "    </tr>\n",
       "    <tr>\n",
       "      <th>28</th>\n",
       "      <td>29</td>\n",
       "      <td>2023-02-10</td>\n",
       "      <td>Sugarcane juice</td>\n",
       "      <td>Beverages</td>\n",
       "      <td>25</td>\n",
       "      <td>9</td>\n",
       "      <td>225</td>\n",
       "      <td>Online</td>\n",
       "      <td>Male</td>\n",
       "      <td>Afternoon</td>\n",
       "    </tr>\n",
       "    <tr>\n",
       "      <th>29</th>\n",
       "      <td>30</td>\n",
       "      <td>2023-01-28</td>\n",
       "      <td>Frankie</td>\n",
       "      <td>Fastfood</td>\n",
       "      <td>50</td>\n",
       "      <td>2</td>\n",
       "      <td>100</td>\n",
       "      <td>Cash</td>\n",
       "      <td>Female</td>\n",
       "      <td>Night</td>\n",
       "    </tr>\n",
       "    <tr>\n",
       "      <th>30</th>\n",
       "      <td>31</td>\n",
       "      <td>2022-09-14</td>\n",
       "      <td>Cold coffee</td>\n",
       "      <td>Beverages</td>\n",
       "      <td>40</td>\n",
       "      <td>13</td>\n",
       "      <td>520</td>\n",
       "      <td>Online</td>\n",
       "      <td>Female</td>\n",
       "      <td>Evening</td>\n",
       "    </tr>\n",
       "    <tr>\n",
       "      <th>31</th>\n",
       "      <td>32</td>\n",
       "      <td>2022-05-06</td>\n",
       "      <td>Aalopuri</td>\n",
       "      <td>Fastfood</td>\n",
       "      <td>20</td>\n",
       "      <td>4</td>\n",
       "      <td>80</td>\n",
       "      <td>Credit Card</td>\n",
       "      <td>Male</td>\n",
       "      <td>Morning</td>\n",
       "    </tr>\n",
       "    <tr>\n",
       "      <th>32</th>\n",
       "      <td>33</td>\n",
       "      <td>2023-02-05</td>\n",
       "      <td>Aalopuri</td>\n",
       "      <td>Fastfood</td>\n",
       "      <td>20</td>\n",
       "      <td>13</td>\n",
       "      <td>260</td>\n",
       "      <td>Online</td>\n",
       "      <td>Male</td>\n",
       "      <td>Night</td>\n",
       "    </tr>\n",
       "    <tr>\n",
       "      <th>33</th>\n",
       "      <td>34</td>\n",
       "      <td>2023-02-04</td>\n",
       "      <td>Frankie</td>\n",
       "      <td>Fastfood</td>\n",
       "      <td>50</td>\n",
       "      <td>12</td>\n",
       "      <td>600</td>\n",
       "      <td>Online</td>\n",
       "      <td>Female</td>\n",
       "      <td>Evening</td>\n",
       "    </tr>\n",
       "    <tr>\n",
       "      <th>34</th>\n",
       "      <td>35</td>\n",
       "      <td>2022-05-22</td>\n",
       "      <td>Vadapav</td>\n",
       "      <td>Fastfood</td>\n",
       "      <td>20</td>\n",
       "      <td>8</td>\n",
       "      <td>160</td>\n",
       "      <td>Cash</td>\n",
       "      <td>Male</td>\n",
       "      <td>Morning</td>\n",
       "    </tr>\n",
       "    <tr>\n",
       "      <th>35</th>\n",
       "      <td>36</td>\n",
       "      <td>2022-07-02</td>\n",
       "      <td>Cold coffee</td>\n",
       "      <td>Beverages</td>\n",
       "      <td>40</td>\n",
       "      <td>10</td>\n",
       "      <td>400</td>\n",
       "      <td>Online</td>\n",
       "      <td>Male</td>\n",
       "      <td>Afternoon</td>\n",
       "    </tr>\n",
       "    <tr>\n",
       "      <th>36</th>\n",
       "      <td>37</td>\n",
       "      <td>2023-01-05</td>\n",
       "      <td>Frankie</td>\n",
       "      <td>Fastfood</td>\n",
       "      <td>50</td>\n",
       "      <td>10</td>\n",
       "      <td>500</td>\n",
       "      <td>Cash</td>\n",
       "      <td>Male</td>\n",
       "      <td>Night</td>\n",
       "    </tr>\n",
       "    <tr>\n",
       "      <th>37</th>\n",
       "      <td>38</td>\n",
       "      <td>2023-03-08</td>\n",
       "      <td>Panipuri</td>\n",
       "      <td>Fastfood</td>\n",
       "      <td>20</td>\n",
       "      <td>12</td>\n",
       "      <td>240</td>\n",
       "      <td>Online</td>\n",
       "      <td>Female</td>\n",
       "      <td>Night</td>\n",
       "    </tr>\n",
       "    <tr>\n",
       "      <th>38</th>\n",
       "      <td>39</td>\n",
       "      <td>2022-05-14</td>\n",
       "      <td>Vadapav</td>\n",
       "      <td>Fastfood</td>\n",
       "      <td>20</td>\n",
       "      <td>2</td>\n",
       "      <td>40</td>\n",
       "      <td>Online</td>\n",
       "      <td>Male</td>\n",
       "      <td>Evening</td>\n",
       "    </tr>\n",
       "    <tr>\n",
       "      <th>39</th>\n",
       "      <td>40</td>\n",
       "      <td>2023-02-05</td>\n",
       "      <td>Sandwich</td>\n",
       "      <td>Fastfood</td>\n",
       "      <td>60</td>\n",
       "      <td>5</td>\n",
       "      <td>300</td>\n",
       "      <td>Online</td>\n",
       "      <td>Female</td>\n",
       "      <td>Night</td>\n",
       "    </tr>\n",
       "    <tr>\n",
       "      <th>40</th>\n",
       "      <td>41</td>\n",
       "      <td>2022-11-13</td>\n",
       "      <td>Cold coffee</td>\n",
       "      <td>Beverages</td>\n",
       "      <td>40</td>\n",
       "      <td>11</td>\n",
       "      <td>440</td>\n",
       "      <td>Credit Card</td>\n",
       "      <td>Male</td>\n",
       "      <td>Afternoon</td>\n",
       "    </tr>\n",
       "    <tr>\n",
       "      <th>41</th>\n",
       "      <td>42</td>\n",
       "      <td>2022-05-09</td>\n",
       "      <td>Aalopuri</td>\n",
       "      <td>Fastfood</td>\n",
       "      <td>20</td>\n",
       "      <td>8</td>\n",
       "      <td>160</td>\n",
       "      <td>Online</td>\n",
       "      <td>Female</td>\n",
       "      <td>Night</td>\n",
       "    </tr>\n",
       "    <tr>\n",
       "      <th>42</th>\n",
       "      <td>43</td>\n",
       "      <td>2022-05-26</td>\n",
       "      <td>Vadapav</td>\n",
       "      <td>Fastfood</td>\n",
       "      <td>20</td>\n",
       "      <td>1</td>\n",
       "      <td>20</td>\n",
       "      <td>Cash</td>\n",
       "      <td>Male</td>\n",
       "      <td>Night</td>\n",
       "    </tr>\n",
       "    <tr>\n",
       "      <th>43</th>\n",
       "      <td>44</td>\n",
       "      <td>2022-08-28</td>\n",
       "      <td>Cold coffee</td>\n",
       "      <td>Beverages</td>\n",
       "      <td>40</td>\n",
       "      <td>12</td>\n",
       "      <td>480</td>\n",
       "      <td>Cash</td>\n",
       "      <td>Male</td>\n",
       "      <td>Evening</td>\n",
       "    </tr>\n",
       "    <tr>\n",
       "      <th>44</th>\n",
       "      <td>45</td>\n",
       "      <td>2022-08-15</td>\n",
       "      <td>Sugarcane juice</td>\n",
       "      <td>Beverages</td>\n",
       "      <td>25</td>\n",
       "      <td>6</td>\n",
       "      <td>150</td>\n",
       "      <td>Cash</td>\n",
       "      <td>Female</td>\n",
       "      <td>Afternoon</td>\n",
       "    </tr>\n",
       "    <tr>\n",
       "      <th>45</th>\n",
       "      <td>46</td>\n",
       "      <td>2022-05-07</td>\n",
       "      <td>Vadapav</td>\n",
       "      <td>Fastfood</td>\n",
       "      <td>20</td>\n",
       "      <td>7</td>\n",
       "      <td>140</td>\n",
       "      <td>Cash</td>\n",
       "      <td>Male</td>\n",
       "      <td>Evening</td>\n",
       "    </tr>\n",
       "    <tr>\n",
       "      <th>46</th>\n",
       "      <td>47</td>\n",
       "      <td>2022-07-10</td>\n",
       "      <td>Sandwich</td>\n",
       "      <td>Fastfood</td>\n",
       "      <td>60</td>\n",
       "      <td>7</td>\n",
       "      <td>420</td>\n",
       "      <td>Credit Card</td>\n",
       "      <td>Male</td>\n",
       "      <td>Morning</td>\n",
       "    </tr>\n",
       "    <tr>\n",
       "      <th>47</th>\n",
       "      <td>48</td>\n",
       "      <td>2023-02-23</td>\n",
       "      <td>Sandwich</td>\n",
       "      <td>Fastfood</td>\n",
       "      <td>60</td>\n",
       "      <td>14</td>\n",
       "      <td>840</td>\n",
       "      <td>Online</td>\n",
       "      <td>Male</td>\n",
       "      <td>Afternoon</td>\n",
       "    </tr>\n",
       "    <tr>\n",
       "      <th>48</th>\n",
       "      <td>49</td>\n",
       "      <td>2022-11-06</td>\n",
       "      <td>Frankie</td>\n",
       "      <td>Fastfood</td>\n",
       "      <td>50</td>\n",
       "      <td>4</td>\n",
       "      <td>200</td>\n",
       "      <td>Online</td>\n",
       "      <td>Female</td>\n",
       "      <td>Morning</td>\n",
       "    </tr>\n",
       "    <tr>\n",
       "      <th>49</th>\n",
       "      <td>50</td>\n",
       "      <td>2022-11-02</td>\n",
       "      <td>Vadapav</td>\n",
       "      <td>Fastfood</td>\n",
       "      <td>20</td>\n",
       "      <td>8</td>\n",
       "      <td>160</td>\n",
       "      <td>Cash</td>\n",
       "      <td>Female</td>\n",
       "      <td>Midnight</td>\n",
       "    </tr>\n",
       "  </tbody>\n",
       "</table>\n",
       "</div>"
      ],
      "text/plain": [
       "    order_id       date        item_name  item_type  item_price  quantity  \\\n",
       "0          1 2022-07-03         Aalopuri   Fastfood          20        13   \n",
       "1          2 2022-08-23          Vadapav   Fastfood          20        15   \n",
       "2          3 2022-11-20          Vadapav   Fastfood          20         1   \n",
       "3          4 2023-02-03  Sugarcane juice  Beverages          25         6   \n",
       "4          5 2022-10-02  Sugarcane juice  Beverages          25         8   \n",
       "5          6 2022-11-14          Vadapav   Fastfood          20        10   \n",
       "6          7 2022-05-03  Sugarcane juice  Beverages          25         9   \n",
       "7          8 2022-12-22         Panipuri   Fastfood          20        14   \n",
       "8          9 2022-06-10         Panipuri   Fastfood          20         1   \n",
       "9         10 2022-09-16         Panipuri   Fastfood          20         5   \n",
       "10        11 2022-12-01          Frankie   Fastfood          50         8   \n",
       "11        12 2022-07-12          Vadapav   Fastfood          20         8   \n",
       "12        13 2022-12-22         Panipuri   Fastfood          20         9   \n",
       "13        14 2022-11-25          Frankie   Fastfood          50         4   \n",
       "14        15 2023-02-03         Aalopuri   Fastfood          20         3   \n",
       "15        16 2022-04-14         Sandwich   Fastfood          60        11   \n",
       "16        17 2022-10-16         Panipuri   Fastfood          20        11   \n",
       "17        18 2022-11-05         Panipuri   Fastfood          20        10   \n",
       "18        19 2022-08-22         Panipuri   Fastfood          20        11   \n",
       "19        20 2022-09-15      Cold coffee  Beverages          40        10   \n",
       "20        21 2022-12-21      Cold coffee  Beverages          40        15   \n",
       "21        22 2022-10-04  Sugarcane juice  Beverages          25        12   \n",
       "22        23 2022-05-26         Sandwich   Fastfood          60         3   \n",
       "23        24 2023-02-11  Sugarcane juice  Beverages          25        10   \n",
       "24        25 2022-08-31         Sandwich   Fastfood          60         1   \n",
       "25        26 2022-08-18  Sugarcane juice  Beverages          25         4   \n",
       "26        27 2022-10-12      Cold coffee  Beverages          40        11   \n",
       "27        28 2023-01-06      Cold coffee  Beverages          40        10   \n",
       "28        29 2023-02-10  Sugarcane juice  Beverages          25         9   \n",
       "29        30 2023-01-28          Frankie   Fastfood          50         2   \n",
       "30        31 2022-09-14      Cold coffee  Beverages          40        13   \n",
       "31        32 2022-05-06         Aalopuri   Fastfood          20         4   \n",
       "32        33 2023-02-05         Aalopuri   Fastfood          20        13   \n",
       "33        34 2023-02-04          Frankie   Fastfood          50        12   \n",
       "34        35 2022-05-22          Vadapav   Fastfood          20         8   \n",
       "35        36 2022-07-02      Cold coffee  Beverages          40        10   \n",
       "36        37 2023-01-05          Frankie   Fastfood          50        10   \n",
       "37        38 2023-03-08         Panipuri   Fastfood          20        12   \n",
       "38        39 2022-05-14          Vadapav   Fastfood          20         2   \n",
       "39        40 2023-02-05         Sandwich   Fastfood          60         5   \n",
       "40        41 2022-11-13      Cold coffee  Beverages          40        11   \n",
       "41        42 2022-05-09         Aalopuri   Fastfood          20         8   \n",
       "42        43 2022-05-26          Vadapav   Fastfood          20         1   \n",
       "43        44 2022-08-28      Cold coffee  Beverages          40        12   \n",
       "44        45 2022-08-15  Sugarcane juice  Beverages          25         6   \n",
       "45        46 2022-05-07          Vadapav   Fastfood          20         7   \n",
       "46        47 2022-07-10         Sandwich   Fastfood          60         7   \n",
       "47        48 2023-02-23         Sandwich   Fastfood          60        14   \n",
       "48        49 2022-11-06          Frankie   Fastfood          50         4   \n",
       "49        50 2022-11-02          Vadapav   Fastfood          20         8   \n",
       "\n",
       "    transaction_amount transaction_type received_by time_of_sale  \n",
       "0                  260      Credit Card        Male        Night  \n",
       "1                  300             Cash        Male    Afternoon  \n",
       "2                   20             Cash        Male    Afternoon  \n",
       "3                  150           Online        Male        Night  \n",
       "4                  200           Online        Male      Evening  \n",
       "5                  200             Cash        Male      Evening  \n",
       "6                  225             Cash        Male      Evening  \n",
       "7                  280           Online        Male        Night  \n",
       "8                   20             Cash      Female      Morning  \n",
       "9                  100           Online        Male    Afternoon  \n",
       "10                 400           Online      Female    Afternoon  \n",
       "11                 160           Online      Female        Night  \n",
       "12                 180           Online      Female    Afternoon  \n",
       "13                 200           Online        Male      Morning  \n",
       "14                  60             Cash      Female      Evening  \n",
       "15                 660      Credit Card      Female     Midnight  \n",
       "16                 220             Cash      Female      Morning  \n",
       "17                 200             Cash      Female        Night  \n",
       "18                 220             Cash      Female        Night  \n",
       "19                 400           Online        Male        Night  \n",
       "20                 600             Cash        Male      Evening  \n",
       "21                 300           Online        Male      Evening  \n",
       "22                 180           Online        Male     Midnight  \n",
       "23                 250           Online        Male    Afternoon  \n",
       "24                  60           Online      Female      Evening  \n",
       "25                 100             Cash        Male    Afternoon  \n",
       "26                 440           Online      Female    Afternoon  \n",
       "27                 400           Online      Female    Afternoon  \n",
       "28                 225           Online        Male    Afternoon  \n",
       "29                 100             Cash      Female        Night  \n",
       "30                 520           Online      Female      Evening  \n",
       "31                  80      Credit Card        Male      Morning  \n",
       "32                 260           Online        Male        Night  \n",
       "33                 600           Online      Female      Evening  \n",
       "34                 160             Cash        Male      Morning  \n",
       "35                 400           Online        Male    Afternoon  \n",
       "36                 500             Cash        Male        Night  \n",
       "37                 240           Online      Female        Night  \n",
       "38                  40           Online        Male      Evening  \n",
       "39                 300           Online      Female        Night  \n",
       "40                 440      Credit Card        Male    Afternoon  \n",
       "41                 160           Online      Female        Night  \n",
       "42                  20             Cash        Male        Night  \n",
       "43                 480             Cash        Male      Evening  \n",
       "44                 150             Cash      Female    Afternoon  \n",
       "45                 140             Cash        Male      Evening  \n",
       "46                 420      Credit Card        Male      Morning  \n",
       "47                 840           Online        Male    Afternoon  \n",
       "48                 200           Online      Female      Morning  \n",
       "49                 160             Cash      Female     Midnight  "
      ]
     },
     "execution_count": 15,
     "metadata": {},
     "output_type": "execute_result"
    }
   ],
   "source": [
    "df.head(50)"
   ]
  },
  {
   "cell_type": "markdown",
   "id": "2a6bffcb",
   "metadata": {
    "papermill": {
     "duration": 0.038549,
     "end_time": "2024-10-20T14:18:22.969173",
     "exception": false,
     "start_time": "2024-10-20T14:18:22.930624",
     "status": "completed"
    },
    "tags": []
   },
   "source": [
    "Great! Our Dataset is now looking good and clean. Let us now proceed to the next phase of our Data Analysis which is called Exploratory Data Analysis"
   ]
  },
  {
   "cell_type": "markdown",
   "id": "bb037e3e",
   "metadata": {
    "papermill": {
     "duration": 0.037563,
     "end_time": "2024-10-20T14:18:23.045118",
     "exception": false,
     "start_time": "2024-10-20T14:18:23.007555",
     "status": "completed"
    },
    "tags": []
   },
   "source": [
    "<h2>4. Exploratory Data Analysis (EDA)</h2>"
   ]
  },
  {
   "cell_type": "markdown",
   "id": "66eb6d29",
   "metadata": {
    "papermill": {
     "duration": 0.039151,
     "end_time": "2024-10-20T14:18:23.122526",
     "exception": false,
     "start_time": "2024-10-20T14:18:23.083375",
     "status": "completed"
    },
    "tags": []
   },
   "source": [
    "In this section, I will conduct Exploratory Data Analysis (EDA) to better understand the dataset. EDA helps us discover patterns, spot any errors, and identify relationships between different variables. By using simple statistics and visualizations, I will present key insights that will guide our analysis moving forward."
   ]
  },
  {
   "cell_type": "markdown",
   "id": "99121f82",
   "metadata": {
    "papermill": {
     "duration": 0.038053,
     "end_time": "2024-10-20T14:18:23.198972",
     "exception": false,
     "start_time": "2024-10-20T14:18:23.160919",
     "status": "completed"
    },
    "tags": []
   },
   "source": [
    "We will import the Matplotlib module to facilitate the visualization of our Exploratory Data Analysis (EDA), enhancing our ability to interpret the data effectively."
   ]
  },
  {
   "cell_type": "code",
   "execution_count": 16,
   "id": "c7a31eea",
   "metadata": {
    "execution": {
     "iopub.execute_input": "2024-10-20T14:18:23.277095Z",
     "iopub.status.busy": "2024-10-20T14:18:23.276647Z",
     "iopub.status.idle": "2024-10-20T14:18:23.282321Z",
     "shell.execute_reply": "2024-10-20T14:18:23.281092Z"
    },
    "papermill": {
     "duration": 0.047981,
     "end_time": "2024-10-20T14:18:23.285206",
     "exception": false,
     "start_time": "2024-10-20T14:18:23.237225",
     "status": "completed"
    },
    "tags": []
   },
   "outputs": [],
   "source": [
    "import matplotlib.pyplot as plt"
   ]
  },
  {
   "cell_type": "code",
   "execution_count": 17,
   "id": "2785c9a9",
   "metadata": {
    "execution": {
     "iopub.execute_input": "2024-10-20T14:18:23.365166Z",
     "iopub.status.busy": "2024-10-20T14:18:23.364692Z",
     "iopub.status.idle": "2024-10-20T14:18:23.405102Z",
     "shell.execute_reply": "2024-10-20T14:18:23.403863Z"
    },
    "papermill": {
     "duration": 0.0827,
     "end_time": "2024-10-20T14:18:23.407650",
     "exception": false,
     "start_time": "2024-10-20T14:18:23.324950",
     "status": "completed"
    },
    "tags": []
   },
   "outputs": [
    {
     "data": {
      "text/html": [
       "<div>\n",
       "<style scoped>\n",
       "    .dataframe tbody tr th:only-of-type {\n",
       "        vertical-align: middle;\n",
       "    }\n",
       "\n",
       "    .dataframe tbody tr th {\n",
       "        vertical-align: top;\n",
       "    }\n",
       "\n",
       "    .dataframe thead th {\n",
       "        text-align: right;\n",
       "    }\n",
       "</style>\n",
       "<table border=\"1\" class=\"dataframe\">\n",
       "  <thead>\n",
       "    <tr style=\"text-align: right;\">\n",
       "      <th></th>\n",
       "      <th>order_id</th>\n",
       "      <th>date</th>\n",
       "      <th>item_price</th>\n",
       "      <th>quantity</th>\n",
       "      <th>transaction_amount</th>\n",
       "    </tr>\n",
       "  </thead>\n",
       "  <tbody>\n",
       "    <tr>\n",
       "      <th>count</th>\n",
       "      <td>1000.0</td>\n",
       "      <td>1000</td>\n",
       "      <td>1000.0</td>\n",
       "      <td>1000.0</td>\n",
       "      <td>1000.0</td>\n",
       "    </tr>\n",
       "    <tr>\n",
       "      <th>mean</th>\n",
       "      <td>500.0</td>\n",
       "      <td>2022-10-03 14:39:50.400000</td>\n",
       "      <td>33.0</td>\n",
       "      <td>8.0</td>\n",
       "      <td>275.0</td>\n",
       "    </tr>\n",
       "    <tr>\n",
       "      <th>min</th>\n",
       "      <td>1.0</td>\n",
       "      <td>2022-04-01 00:00:00</td>\n",
       "      <td>20.0</td>\n",
       "      <td>1.0</td>\n",
       "      <td>20.0</td>\n",
       "    </tr>\n",
       "    <tr>\n",
       "      <th>25%</th>\n",
       "      <td>251.0</td>\n",
       "      <td>2022-07-04 00:00:00</td>\n",
       "      <td>20.0</td>\n",
       "      <td>4.0</td>\n",
       "      <td>120.0</td>\n",
       "    </tr>\n",
       "    <tr>\n",
       "      <th>50%</th>\n",
       "      <td>500.0</td>\n",
       "      <td>2022-10-07 12:00:00</td>\n",
       "      <td>25.0</td>\n",
       "      <td>8.0</td>\n",
       "      <td>240.0</td>\n",
       "    </tr>\n",
       "    <tr>\n",
       "      <th>75%</th>\n",
       "      <td>750.0</td>\n",
       "      <td>2023-01-02 00:00:00</td>\n",
       "      <td>50.0</td>\n",
       "      <td>12.0</td>\n",
       "      <td>360.0</td>\n",
       "    </tr>\n",
       "    <tr>\n",
       "      <th>max</th>\n",
       "      <td>1000.0</td>\n",
       "      <td>2023-03-30 00:00:00</td>\n",
       "      <td>60.0</td>\n",
       "      <td>15.0</td>\n",
       "      <td>900.0</td>\n",
       "    </tr>\n",
       "    <tr>\n",
       "      <th>std</th>\n",
       "      <td>289.0</td>\n",
       "      <td>NaN</td>\n",
       "      <td>15.0</td>\n",
       "      <td>4.0</td>\n",
       "      <td>204.0</td>\n",
       "    </tr>\n",
       "  </tbody>\n",
       "</table>\n",
       "</div>"
      ],
      "text/plain": [
       "       order_id                        date  item_price  quantity  \\\n",
       "count    1000.0                        1000      1000.0    1000.0   \n",
       "mean      500.0  2022-10-03 14:39:50.400000        33.0       8.0   \n",
       "min         1.0         2022-04-01 00:00:00        20.0       1.0   \n",
       "25%       251.0         2022-07-04 00:00:00        20.0       4.0   \n",
       "50%       500.0         2022-10-07 12:00:00        25.0       8.0   \n",
       "75%       750.0         2023-01-02 00:00:00        50.0      12.0   \n",
       "max      1000.0         2023-03-30 00:00:00        60.0      15.0   \n",
       "std       289.0                         NaN        15.0       4.0   \n",
       "\n",
       "       transaction_amount  \n",
       "count              1000.0  \n",
       "mean                275.0  \n",
       "min                  20.0  \n",
       "25%                 120.0  \n",
       "50%                 240.0  \n",
       "75%                 360.0  \n",
       "max                 900.0  \n",
       "std                 204.0  "
      ]
     },
     "execution_count": 17,
     "metadata": {},
     "output_type": "execute_result"
    }
   ],
   "source": [
    "df.describe().round(0)"
   ]
  },
  {
   "cell_type": "markdown",
   "id": "f7907a35",
   "metadata": {
    "papermill": {
     "duration": 0.038821,
     "end_time": "2024-10-20T14:18:23.485642",
     "exception": false,
     "start_time": "2024-10-20T14:18:23.446821",
     "status": "completed"
    },
    "tags": []
   },
   "source": [
    "To begin, I would like to review the available products to understand what the restaurant offers and their respective prices."
   ]
  },
  {
   "cell_type": "markdown",
   "id": "229d0154",
   "metadata": {
    "papermill": {
     "duration": 0.038199,
     "end_time": "2024-10-20T14:18:23.562261",
     "exception": false,
     "start_time": "2024-10-20T14:18:23.524062",
     "status": "completed"
    },
    "tags": []
   },
   "source": [
    "I believe a bar chart will provide a clear visualization for this purpose."
   ]
  },
  {
   "cell_type": "code",
   "execution_count": 18,
   "id": "c09ca64d",
   "metadata": {
    "execution": {
     "iopub.execute_input": "2024-10-20T14:18:23.641165Z",
     "iopub.status.busy": "2024-10-20T14:18:23.640706Z",
     "iopub.status.idle": "2024-10-20T14:18:25.997385Z",
     "shell.execute_reply": "2024-10-20T14:18:25.995999Z"
    },
    "papermill": {
     "duration": 2.399651,
     "end_time": "2024-10-20T14:18:26.000353",
     "exception": false,
     "start_time": "2024-10-20T14:18:23.600702",
     "status": "completed"
    },
    "tags": []
   },
   "outputs": [
    {
     "data": {
      "text/plain": [
       "([0, 1, 2, 3, 4, 5, 6],\n",
       " [Text(0, 0, 'Aalopuri'),\n",
       "  Text(1, 0, 'Vadapav'),\n",
       "  Text(2, 0, 'Panipuri'),\n",
       "  Text(3, 0, 'Sugarcane juice'),\n",
       "  Text(4, 0, 'Cold coffee'),\n",
       "  Text(5, 0, 'Frankie'),\n",
       "  Text(6, 0, 'Sandwich')])"
      ]
     },
     "execution_count": 18,
     "metadata": {},
     "output_type": "execute_result"
    },
    {
     "data": {
      "image/png": "[encoded data removed]",
      "text/plain": [
       "<Figure size 640x480 with 1 Axes>"
      ]
     },
     "metadata": {},
     "output_type": "display_data"
    }
   ],
   "source": [
    "price_sorted = df['item_price'].argsort()\n",
    "plt.bar(df['item_name'][price_sorted],df['item_price'][price_sorted], edgecolor = 'black', color = 'skyblue')\n",
    "plt.title(\"Products by Price\")\n",
    "plt.xlabel(\"Products\")\n",
    "plt.ylabel(\"Price\")\n",
    "plt.xticks(rotation = 45)"
   ]
  },
  {
   "cell_type": "markdown",
   "id": "973ba691",
   "metadata": {
    "papermill": {
     "duration": 0.039522,
     "end_time": "2024-10-20T14:18:26.080638",
     "exception": false,
     "start_time": "2024-10-20T14:18:26.041116",
     "status": "completed"
    },
    "tags": []
   },
   "source": [
    "Based on the bar chart, the cheapest products in the Fast Food category are Aalopuri, Vadapav, and Panipuri, each priced at 20. The most expensive Fast Food item at the restaurant is a sandwich, which costs 60, followed closely by the Frankie at 50. In the Beverage category, the Cold Coffee is priced at 40, which is 60% higher than the Sugarcane Juice, priced at only 25."
   ]
  },
  {
   "cell_type": "markdown",
   "id": "2e849ae2",
   "metadata": {
    "papermill": {
     "duration": 0.03889,
     "end_time": "2024-10-20T14:18:26.160690",
     "exception": false,
     "start_time": "2024-10-20T14:18:26.121800",
     "status": "completed"
    },
    "tags": []
   },
   "source": [
    "Now that we've analyzed the product prices, it's important to examine how often each product is ordered. A bar chart of order quantities for each product will give us valuable insights into which items are the most popular and how demand varies across the menu. Let’s dive into the distribution of order quantities to see which products are driving the most sales."
   ]
  },
  {
   "cell_type": "code",
   "execution_count": 19,
   "id": "8e41b766",
   "metadata": {
    "execution": {
     "iopub.execute_input": "2024-10-20T14:18:26.241204Z",
     "iopub.status.busy": "2024-10-20T14:18:26.240729Z",
     "iopub.status.idle": "2024-10-20T14:18:26.515384Z",
     "shell.execute_reply": "2024-10-20T14:18:26.514202Z"
    },
    "papermill": {
     "duration": 0.317969,
     "end_time": "2024-10-20T14:18:26.518072",
     "exception": false,
     "start_time": "2024-10-20T14:18:26.200103",
     "status": "completed"
    },
    "tags": []
   },
   "outputs": [
    {
     "data": {
      "image/png": "[encoded data removed]",
      "text/plain": [
       "<Figure size 640x480 with 1 Axes>"
      ]
     },
     "metadata": {},
     "output_type": "display_data"
    }
   ],
   "source": [
    "sorted_data = df.groupby('item_name')['quantity'].sum().sort_values(ascending=True)\n",
    "plt.barh(sorted_data.index, sorted_data.values, edgecolor = 'black', color = 'skyblue')\n",
    "plt.title(\"Order Count by Product Name\")\n",
    "plt.grid(axis = 'x', alpha = 0.3)"
   ]
  },
  {
   "cell_type": "code",
   "execution_count": 20,
   "id": "4a2ca60a",
   "metadata": {
    "execution": {
     "iopub.execute_input": "2024-10-20T14:18:26.601389Z",
     "iopub.status.busy": "2024-10-20T14:18:26.600278Z",
     "iopub.status.idle": "2024-10-20T14:18:26.611827Z",
     "shell.execute_reply": "2024-10-20T14:18:26.610553Z"
    },
    "papermill": {
     "duration": 0.055904,
     "end_time": "2024-10-20T14:18:26.614367",
     "exception": false,
     "start_time": "2024-10-20T14:18:26.558463",
     "status": "completed"
    },
    "tags": []
   },
   "outputs": [
    {
     "data": {
      "text/plain": [
       "item_name\n",
       "Vadapav            1006\n",
       "Aalopuri           1044\n",
       "Sandwich           1097\n",
       "Frankie            1150\n",
       "Panipuri           1226\n",
       "Sugarcane juice    1278\n",
       "Cold coffee        1361\n",
       "Name: quantity, dtype: int64"
      ]
     },
     "execution_count": 20,
     "metadata": {},
     "output_type": "execute_result"
    }
   ],
   "source": [
    "sorted_data = df.groupby('item_name')['quantity'].sum().sort_values(ascending=True)\n",
    "sorted_data"
   ]
  },
  {
   "cell_type": "markdown",
   "id": "84fcd896",
   "metadata": {
    "papermill": {
     "duration": 0.039583,
     "end_time": "2024-10-20T14:18:26.693871",
     "exception": false,
     "start_time": "2024-10-20T14:18:26.654288",
     "status": "completed"
    },
    "tags": []
   },
   "source": [
    "From these insights, it's clear that our beverages are the best-sellers, with order counts between 1,200 and 1,400. In third place, Panipuri stands out as the top-ordered item in the Fast Food category. This highlights the products that are most popular with customers."
   ]
  },
  {
   "cell_type": "markdown",
   "id": "0ac4e192",
   "metadata": {
    "papermill": {
     "duration": 0.039589,
     "end_time": "2024-10-20T14:18:26.773457",
     "exception": false,
     "start_time": "2024-10-20T14:18:26.733868",
     "status": "completed"
    },
    "tags": []
   },
   "source": [
    "This brings us to an interesting question: <b>\"Does the price of a product correlate with its likelihood of being purchased?\"</b>\n",
    "\n",
    "To better understand this correlation, a scatter plot will help us visualize the relationship between price and order frequency more clearly."
   ]
  },
  {
   "cell_type": "code",
   "execution_count": 21,
   "id": "dc69fe1d",
   "metadata": {
    "execution": {
     "iopub.execute_input": "2024-10-20T14:18:26.855368Z",
     "iopub.status.busy": "2024-10-20T14:18:26.854896Z",
     "iopub.status.idle": "2024-10-20T14:18:27.294595Z",
     "shell.execute_reply": "2024-10-20T14:18:27.293343Z"
    },
    "papermill": {
     "duration": 0.483764,
     "end_time": "2024-10-20T14:18:27.297332",
     "exception": false,
     "start_time": "2024-10-20T14:18:26.813568",
     "status": "completed"
    },
    "tags": []
   },
   "outputs": [
    {
     "data": {
      "text/plain": [
       "Text(0, 0.5, 'Total Quantity Ordered')"
      ]
     },
     "execution_count": 21,
     "metadata": {},
     "output_type": "execute_result"
    },
    {
     "data": {
      "image/png": "[encoded data removed]",
      "text/plain": [
       "<Figure size 640x480 with 1 Axes>"
      ]
     },
     "metadata": {},
     "output_type": "display_data"
    }
   ],
   "source": [
    "\n",
    "scatter_data = df.groupby('item_name').agg({'item_price': 'mean', 'quantity': 'sum'})\n",
    "\n",
    "plt.scatter(scatter_data['item_price'], scatter_data['quantity'])\n",
    "for item, price, quantity in zip(scatter_data.index, scatter_data['item_price'], scatter_data['quantity']):\n",
    "    plt.text(price, quantity, item, ha = 'left')\n",
    "\n",
    "\n",
    "\n",
    "plt.title(\"Price vs Quantity Ordered (by Product)\", fontsize=16)\n",
    "plt.xlabel(\"Item Price\")\n",
    "plt.ylabel(\"Total Quantity Ordered\")"
   ]
  },
  {
   "cell_type": "markdown",
   "id": "5a6cbdd3",
   "metadata": {
    "papermill": {
     "duration": 0.040434,
     "end_time": "2024-10-20T14:18:27.378817",
     "exception": false,
     "start_time": "2024-10-20T14:18:27.338383",
     "status": "completed"
    },
    "tags": []
   },
   "source": [
    "The scatter plot shows that price has little correlation with order quantity, indicating that factors like product quality and customer preferences are more influential. \n",
    "\n",
    "Notably, some higher-priced items like the Cold Coffee still attract significant orders, highlighting the need for targeted marketing strategies that account for diverse consumer motivations."
   ]
  },
  {
   "cell_type": "markdown",
   "id": "dd8d4176",
   "metadata": {
    "papermill": {
     "duration": 0.041618,
     "end_time": "2024-10-20T14:18:27.461152",
     "exception": false,
     "start_time": "2024-10-20T14:18:27.419534",
     "status": "completed"
    },
    "tags": []
   },
   "source": [
    "Now, let's investigate whether Cold Coffee, as the most ordered item, also leads in generating revenue for the restaurant. Will it maintain its position as the top revenue generator, or will other products take the lead? Let’s find out."
   ]
  },
  {
   "cell_type": "code",
   "execution_count": 22,
   "id": "1a1731eb",
   "metadata": {
    "execution": {
     "iopub.execute_input": "2024-10-20T14:18:27.545960Z",
     "iopub.status.busy": "2024-10-20T14:18:27.544921Z",
     "iopub.status.idle": "2024-10-20T14:18:27.926181Z",
     "shell.execute_reply": "2024-10-20T14:18:27.924934Z"
    },
    "papermill": {
     "duration": 0.42599,
     "end_time": "2024-10-20T14:18:27.928937",
     "exception": false,
     "start_time": "2024-10-20T14:18:27.502947",
     "status": "completed"
    },
    "tags": []
   },
   "outputs": [
    {
     "data": {
      "text/plain": [
       "Text(0.5, 0, 'Revenue')"
      ]
     },
     "execution_count": 22,
     "metadata": {},
     "output_type": "execute_result"
    },
    {
     "data": {
      "image/png": "[encoded data removed]",
      "text/plain": [
       "<Figure size 640x480 with 1 Axes>"
      ]
     },
     "metadata": {},
     "output_type": "display_data"
    }
   ],
   "source": [
    "revenue_grouped = df.groupby('item_name')['transaction_amount'].sum().sort_values(ascending=True)\n",
    "revenue_grouped\n",
    "\n",
    "plt.barh(revenue_grouped.index, revenue_grouped.values, color = 'skyblue', edgecolor = 'black')\n",
    "plt.xticks(range(0, 65001, 5000)) \n",
    "plt.xticks(rotation = 45)\n",
    "plt.grid(axis = 'x', alpha = 0.3)\n",
    "plt.title(\"Total Revenue by Product\")\n",
    "plt.xlabel(\"Revenue\")"
   ]
  },
  {
   "cell_type": "markdown",
   "id": "15b33988",
   "metadata": {
    "papermill": {
     "duration": 0.041398,
     "end_time": "2024-10-20T14:18:28.012118",
     "exception": false,
     "start_time": "2024-10-20T14:18:27.970720",
     "status": "completed"
    },
    "tags": []
   },
   "source": [
    "By looking at the graphs we made until now, we can already create some insights about the data we are looking at.\n",
    "\n",
    "\n",
    "A few insights so far:\n",
    "\n",
    "Top Revenue Generators: Surprisingly, the Sandwich stands out as the highest revenue-generating product, bringing in 65,820. This suggests that while it may not be the most frequently ordered item(5th Ranked), its higher price point contributes significantly to the restaurant's overall revenue.\n",
    "\n",
    "Something about Cold Coffee: Surprisingly, Cold Coffee not only has the highest order count at 1,361 but also ranks second in revenue with 54,440. This indicates that it is both popular among customers and contributes substantially to the restaurant's earnings, highlighting its importance on the menu.\n",
    "\n",
    "Price vs. Popularity: The data reveals a correlation between price and order count. While Vadapav and Aalopuri have lower prices and decent order counts, they generate less revenue than more expensive items like Panipuri and Frankie. This could suggest that customers are willing to spend more on items perceived as higher quality or more filling.\n",
    "\n",
    "Potential for Upselling: Given the high demand for Cold Coffee and its substantial revenue, there may be opportunities to introduce complementary items (like desserts or snacks) that could enhance customer experience and further increase total sales.\n",
    "\n"
   ]
  },
  {
   "cell_type": "markdown",
   "id": "897f7a70",
   "metadata": {
    "papermill": {
     "duration": 0.040716,
     "end_time": "2024-10-20T14:18:28.094542",
     "exception": false,
     "start_time": "2024-10-20T14:18:28.053826",
     "status": "completed"
    },
    "tags": []
   },
   "source": [
    " "
   ]
  },
  {
   "cell_type": "markdown",
   "id": "52fbc4f8",
   "metadata": {
    "papermill": {
     "duration": 0.041491,
     "end_time": "2024-10-20T14:18:28.179097",
     "exception": false,
     "start_time": "2024-10-20T14:18:28.137606",
     "status": "completed"
    },
    "tags": []
   },
   "source": [
    " "
   ]
  },
  {
   "cell_type": "markdown",
   "id": "5f62e4a1",
   "metadata": {
    "papermill": {
     "duration": 0.041079,
     "end_time": "2024-10-20T14:18:28.261878",
     "exception": false,
     "start_time": "2024-10-20T14:18:28.220799",
     "status": "completed"
    },
    "tags": []
   },
   "source": [
    " "
   ]
  },
  {
   "cell_type": "markdown",
   "id": "f6d3dc33",
   "metadata": {
    "papermill": {
     "duration": 0.041271,
     "end_time": "2024-10-20T14:18:28.345088",
     "exception": false,
     "start_time": "2024-10-20T14:18:28.303817",
     "status": "completed"
    },
    "tags": []
   },
   "source": [
    " "
   ]
  },
  {
   "cell_type": "markdown",
   "id": "ce1183f9",
   "metadata": {
    "papermill": {
     "duration": 0.041237,
     "end_time": "2024-10-20T14:18:28.427544",
     "exception": false,
     "start_time": "2024-10-20T14:18:28.386307",
     "status": "completed"
    },
    "tags": []
   },
   "source": [
    " "
   ]
  },
  {
   "cell_type": "markdown",
   "id": "b3fdf8f6",
   "metadata": {
    "papermill": {
     "duration": 0.042279,
     "end_time": "2024-10-20T14:18:28.512727",
     "exception": false,
     "start_time": "2024-10-20T14:18:28.470448",
     "status": "completed"
    },
    "tags": []
   },
   "source": [
    " "
   ]
  },
  {
   "cell_type": "markdown",
   "id": "645f6880",
   "metadata": {
    "papermill": {
     "duration": 0.040765,
     "end_time": "2024-10-20T14:18:28.594922",
     "exception": false,
     "start_time": "2024-10-20T14:18:28.554157",
     "status": "completed"
    },
    "tags": []
   },
   "source": [
    "Let's continue our analysis"
   ]
  },
  {
   "cell_type": "markdown",
   "id": "5dd0eb94",
   "metadata": {
    "papermill": {
     "duration": 0.041435,
     "end_time": "2024-10-20T14:18:28.677726",
     "exception": false,
     "start_time": "2024-10-20T14:18:28.636291",
     "status": "completed"
    },
    "tags": []
   },
   "source": [
    "We will create a straightforward timeline of the restaurant's revenue using a line graph, as it is one of the most effective ways to visualize trends over time. This will help us uncover any hidden insights that may assist the owner in making informed decisions.\n",
    "\n",
    "\n",
    "\n"
   ]
  },
  {
   "cell_type": "markdown",
   "id": "c2d11044",
   "metadata": {
    "papermill": {
     "duration": 0.041297,
     "end_time": "2024-10-20T14:18:28.761168",
     "exception": false,
     "start_time": "2024-10-20T14:18:28.719871",
     "status": "completed"
    },
    "tags": []
   },
   "source": [
    "<h3>Timeline Analysis of Monthly Sales</h3>\n",
    "\n",
    "\n",
    "In this section, we create a simple line graph to visualize the restaurant's monthly revenue. The goal is to identify trends and patterns in sales, which can assist the owner in making better business decisions."
   ]
  },
  {
   "cell_type": "markdown",
   "id": "76721ff2",
   "metadata": {
    "papermill": {
     "duration": 0.043365,
     "end_time": "2024-10-20T14:18:28.846123",
     "exception": false,
     "start_time": "2024-10-20T14:18:28.802758",
     "status": "completed"
    },
    "tags": []
   },
   "source": [
    "\n",
    "Setting the Date as Index: We begin by setting the date column as the index of the DataFrame, allowing us to perform time-based operations. This is crucial when analyzing trends over time."
   ]
  },
  {
   "cell_type": "code",
   "execution_count": 23,
   "id": "c9a84e31",
   "metadata": {
    "execution": {
     "iopub.execute_input": "2024-10-20T14:18:28.933090Z",
     "iopub.status.busy": "2024-10-20T14:18:28.932606Z",
     "iopub.status.idle": "2024-10-20T14:18:28.939303Z",
     "shell.execute_reply": "2024-10-20T14:18:28.938095Z"
    },
    "papermill": {
     "duration": 0.052537,
     "end_time": "2024-10-20T14:18:28.941943",
     "exception": false,
     "start_time": "2024-10-20T14:18:28.889406",
     "status": "completed"
    },
    "tags": []
   },
   "outputs": [],
   "source": [
    "df.set_index('date', inplace=True)"
   ]
  },
  {
   "cell_type": "markdown",
   "id": "d7d13f86",
   "metadata": {
    "papermill": {
     "duration": 0.041107,
     "end_time": "2024-10-20T14:18:29.024677",
     "exception": false,
     "start_time": "2024-10-20T14:18:28.983570",
     "status": "completed"
    },
    "tags": []
   },
   "source": [
    "Resampling Sales Data: Next, we aggregate the transaction_amount column by resampling the data monthly. We use ME, which ensures that we sum the sales at the end of each month. This step is essential to convert the daily sales data into monthly totals."
   ]
  },
  {
   "cell_type": "code",
   "execution_count": 24,
   "id": "b5bebef7",
   "metadata": {
    "execution": {
     "iopub.execute_input": "2024-10-20T14:18:29.110388Z",
     "iopub.status.busy": "2024-10-20T14:18:29.109455Z",
     "iopub.status.idle": "2024-10-20T14:18:29.130434Z",
     "shell.execute_reply": "2024-10-20T14:18:29.129351Z"
    },
    "papermill": {
     "duration": 0.067201,
     "end_time": "2024-10-20T14:18:29.133222",
     "exception": false,
     "start_time": "2024-10-20T14:18:29.066021",
     "status": "completed"
    },
    "scrolled": true,
    "tags": []
   },
   "outputs": [],
   "source": [
    "monthly_sales = df['transaction_amount'].resample('ME').sum()"
   ]
  },
  {
   "cell_type": "markdown",
   "id": "f17dee0c",
   "metadata": {
    "papermill": {
     "duration": 0.042598,
     "end_time": "2024-10-20T14:18:29.217929",
     "exception": false,
     "start_time": "2024-10-20T14:18:29.175331",
     "status": "completed"
    },
    "tags": []
   },
   "source": [
    "Resetting the Index: After resampling, we reset the index to convert the date index back into a column. This makes it easier to plot the data using the date on the x-axis."
   ]
  },
  {
   "cell_type": "code",
   "execution_count": 25,
   "id": "fc69494c",
   "metadata": {
    "execution": {
     "iopub.execute_input": "2024-10-20T14:18:29.303767Z",
     "iopub.status.busy": "2024-10-20T14:18:29.303345Z",
     "iopub.status.idle": "2024-10-20T14:18:29.310285Z",
     "shell.execute_reply": "2024-10-20T14:18:29.309055Z"
    },
    "papermill": {
     "duration": 0.053001,
     "end_time": "2024-10-20T14:18:29.312911",
     "exception": false,
     "start_time": "2024-10-20T14:18:29.259910",
     "status": "completed"
    },
    "tags": []
   },
   "outputs": [],
   "source": [
    "monthly_sales = monthly_sales.reset_index()"
   ]
  },
  {
   "cell_type": "markdown",
   "id": "3833cee1",
   "metadata": {
    "papermill": {
     "duration": 0.041187,
     "end_time": "2024-10-20T14:18:29.396036",
     "exception": false,
     "start_time": "2024-10-20T14:18:29.354849",
     "status": "completed"
    },
    "tags": []
   },
   "source": [
    "Plotting the Sales Data: We then plot the monthly sales using a line graph, where the x-axis represents the months, and the y-axis represents the total sales for each month. We adjust the figure size and rotate the x-axis labels for better readability. The y-axis is also scaled between 10,000 and 30,000 for a clearer visualization."
   ]
  },
  {
   "cell_type": "code",
   "execution_count": 26,
   "id": "cab4b141",
   "metadata": {
    "execution": {
     "iopub.execute_input": "2024-10-20T14:18:29.482811Z",
     "iopub.status.busy": "2024-10-20T14:18:29.482373Z",
     "iopub.status.idle": "2024-10-20T14:18:29.904639Z",
     "shell.execute_reply": "2024-10-20T14:18:29.903150Z"
    },
    "papermill": {
     "duration": 0.469896,
     "end_time": "2024-10-20T14:18:29.907740",
     "exception": false,
     "start_time": "2024-10-20T14:18:29.437844",
     "status": "completed"
    },
    "scrolled": true,
    "tags": []
   },
   "outputs": [
    {
     "data": {
      "image/png": "[encoded data removed]",
      "text/plain": [
       "<Figure size 2000x700 with 1 Axes>"
      ]
     },
     "metadata": {},
     "output_type": "display_data"
    }
   ],
   "source": [
    "formatted_dates = monthly_sales['date'].dt.strftime('%Y-%m')\n",
    "plt.figure(figsize=(20,7), dpi=100)\n",
    "plt.plot(monthly_sales.date, monthly_sales['transaction_amount'], marker = 'o', label = 'Monthly Sales')\n",
    "plt.title('Monthly Sales (From 2022-05 To 2023-04)')\n",
    "plt.xticks(monthly_sales['date'], formatted_dates, rotation=45)\n",
    "plt.ylim(16000,30000)\n",
    "plt.grid(True)\n",
    "plt.show();\n"
   ]
  },
  {
   "cell_type": "markdown",
   "id": "5427ee00",
   "metadata": {
    "papermill": {
     "duration": 0.042784,
     "end_time": "2024-10-20T14:18:29.994610",
     "exception": false,
     "start_time": "2024-10-20T14:18:29.951826",
     "status": "completed"
    },
    "tags": []
   },
   "source": [
    "From this graph, we can observe a steady growth in the restaurant's monthly revenue from around 17,500 in April 2022 to just a little above 25000 in March 2023. While the overall trend is upward, there are some fluctuations, with notable revenue spikes in May 2022, October 2022, and January 2023. A significant drop of approximately 7,500 in sales occurred in June 2022."
   ]
  },
  {
   "cell_type": "markdown",
   "id": "f2f08763",
   "metadata": {
    "papermill": {
     "duration": 0.043718,
     "end_time": "2024-10-20T14:18:30.086958",
     "exception": false,
     "start_time": "2024-10-20T14:18:30.043240",
     "status": "completed"
    },
    "tags": []
   },
   "source": [
    "Now let's dive a little deeper and examine the performance of our restaurant's beverages during this period. By analyzing the monthly sales trends for specific drinks, we can identify which beverages contributed the most to revenue and if there were any significant shifts in customer preferences over time."
   ]
  },
  {
   "cell_type": "markdown",
   "id": "a425aae0",
   "metadata": {
    "papermill": {
     "duration": 0.042809,
     "end_time": "2024-10-20T14:18:30.175151",
     "exception": false,
     "start_time": "2024-10-20T14:18:30.132342",
     "status": "completed"
    },
    "tags": []
   },
   "source": [
    "<h3>Beverages Monthly Sales Line Plot (Cold Coffee & Sugarcane Juice)</h3>\n",
    "\n",
    "This plot visualizes the monthly sales of Cold Coffee and Sugarcane Juice from May 2022 to April 2023. Using line plots, we can track the changes in sales for both beverages over time. The x-axis represents the months, while the y-axis shows the sales amounts. This chart provides an overview of the sales performance for these beverages, helping to identify any trends or patterns in their monthly sales."
   ]
  },
  {
   "cell_type": "code",
   "execution_count": 27,
   "id": "760e6cc6",
   "metadata": {
    "execution": {
     "iopub.execute_input": "2024-10-20T14:18:30.270595Z",
     "iopub.status.busy": "2024-10-20T14:18:30.269975Z",
     "iopub.status.idle": "2024-10-20T14:18:30.287448Z",
     "shell.execute_reply": "2024-10-20T14:18:30.285717Z"
    },
    "papermill": {
     "duration": 0.072718,
     "end_time": "2024-10-20T14:18:30.291124",
     "exception": false,
     "start_time": "2024-10-20T14:18:30.218406",
     "status": "completed"
    },
    "tags": []
   },
   "outputs": [],
   "source": [
    "ccoffee = df[df['item_name'] == 'Cold coffee']\n",
    "ccoffee = ccoffee['transaction_amount'].resample('ME').sum()\n",
    "ccoffee = ccoffee.reset_index()"
   ]
  },
  {
   "cell_type": "code",
   "execution_count": 28,
   "id": "5c8e1966",
   "metadata": {
    "execution": {
     "iopub.execute_input": "2024-10-20T14:18:30.394847Z",
     "iopub.status.busy": "2024-10-20T14:18:30.393833Z",
     "iopub.status.idle": "2024-10-20T14:18:30.406176Z",
     "shell.execute_reply": "2024-10-20T14:18:30.404854Z"
    },
    "papermill": {
     "duration": 0.061366,
     "end_time": "2024-10-20T14:18:30.408783",
     "exception": false,
     "start_time": "2024-10-20T14:18:30.347417",
     "status": "completed"
    },
    "tags": []
   },
   "outputs": [],
   "source": [
    "sugarcane = df[df['item_name'] == 'Sugarcane juice']\n",
    "sugarcane = sugarcane['transaction_amount'].resample('ME').sum()\n",
    "sugarcane = sugarcane.reset_index()"
   ]
  },
  {
   "cell_type": "code",
   "execution_count": 29,
   "id": "54e711ea",
   "metadata": {
    "execution": {
     "iopub.execute_input": "2024-10-20T14:18:30.496891Z",
     "iopub.status.busy": "2024-10-20T14:18:30.496425Z",
     "iopub.status.idle": "2024-10-20T14:18:30.946692Z",
     "shell.execute_reply": "2024-10-20T14:18:30.945498Z"
    },
    "papermill": {
     "duration": 0.498509,
     "end_time": "2024-10-20T14:18:30.950440",
     "exception": false,
     "start_time": "2024-10-20T14:18:30.451931",
     "status": "completed"
    },
    "tags": []
   },
   "outputs": [
    {
     "data": {
      "image/png": "[encoded data removed]",
      "text/plain": [
       "<Figure size 2000x600 with 1 Axes>"
      ]
     },
     "metadata": {},
     "output_type": "display_data"
    }
   ],
   "source": [
    "plt.figure(figsize=(20,6))\n",
    "plt.plot(ccoffee.date, ccoffee['transaction_amount'], marker = 'o', label = 'Cold Coffee')\n",
    "plt.plot(sugarcane.date, sugarcane['transaction_amount'], marker = 'o', label = 'Sugarcane juice')\n",
    "plt.title('Beverages Monthly Sales (From 2022-05 To 2023-04)')\n",
    "plt.xticks(ccoffee.date, rotation=45)\n",
    "plt.grid(True)\n",
    "plt.legend()\n",
    "plt.show();"
   ]
  },
  {
   "cell_type": "markdown",
   "id": "e1c42dfa",
   "metadata": {
    "papermill": {
     "duration": 0.04556,
     "end_time": "2024-10-20T14:18:31.041627",
     "exception": false,
     "start_time": "2024-10-20T14:18:30.996067",
     "status": "completed"
    },
    "tags": []
   },
   "source": [
    "As we can see, the sales patterns for both beverages are quite similar, with both experiencing fluctuations over time. However, in November 2022, the revenue from Sugarcane juice dropped by approximately 2,000, while Cold Coffee only saw a minor decline of a few hundred, maintaining sales above 6,000. Interestingly, in February 2023, while Sugarcane juice sales decreased by nearly 2,000, Cold Coffee sales increased by around 2,000. Overall, it's clear that Cold Coffee generates more revenue within our beverage category, as evidenced by the previous charts."
   ]
  },
  {
   "cell_type": "markdown",
   "id": "04f020ce",
   "metadata": {
    "papermill": {
     "duration": 0.047303,
     "end_time": "2024-10-20T14:18:31.137784",
     "exception": false,
     "start_time": "2024-10-20T14:18:31.090481",
     "status": "completed"
    },
    "tags": []
   },
   "source": [
    "Insights into the beverage category reveal a strong performance for Cold Coffee, which consistently generates higher sales compared to Sugarcane Juice. The divergence in their sales trends indicates potential for strategic promotions to boost Sugarcane Juice sales during slower months, particularly in November and February. Given Cold Coffee's resilience, the owner may consider expanding its visibility on the menu or introducing variations to capitalize on its popularity. By leveraging these insights, the restaurant can enhance beverage offerings and improve overall revenue."
   ]
  },
  {
   "cell_type": "markdown",
   "id": "0ac2a756",
   "metadata": {
    "papermill": {
     "duration": 0.045234,
     "end_time": "2024-10-20T14:18:31.229713",
     "exception": false,
     "start_time": "2024-10-20T14:18:31.184479",
     "status": "completed"
    },
    "tags": []
   },
   "source": [
    "-"
   ]
  },
  {
   "cell_type": "markdown",
   "id": "a15ce800",
   "metadata": {
    "papermill": {
     "duration": 0.045777,
     "end_time": "2024-10-20T14:18:31.321756",
     "exception": false,
     "start_time": "2024-10-20T14:18:31.275979",
     "status": "completed"
    },
    "tags": []
   },
   "source": [
    "-"
   ]
  },
  {
   "cell_type": "markdown",
   "id": "473af03c",
   "metadata": {
    "papermill": {
     "duration": 0.046017,
     "end_time": "2024-10-20T14:18:31.414082",
     "exception": false,
     "start_time": "2024-10-20T14:18:31.368065",
     "status": "completed"
    },
    "tags": []
   },
   "source": [
    "<h3>Fast Food Timeline Analysis.</h3>\n",
    "\n",
    "Now, we will conduct a similar analysis for the Fast Food category. By examining the monthly sales trends for our fast food items, we can gain insights into customer preferences and identify any patterns or fluctuations in sales. This will allow us to determine which fast food items are driving revenue and whether there are specific months where sales peak or decline. Understanding these trends will help us make informed decisions about menu offerings, promotions, and inventory management."
   ]
  },
  {
   "cell_type": "markdown",
   "id": "61efae32",
   "metadata": {
    "papermill": {
     "duration": 0.045403,
     "end_time": "2024-10-20T14:18:31.504926",
     "exception": false,
     "start_time": "2024-10-20T14:18:31.459523",
     "status": "completed"
    },
    "tags": []
   },
   "source": [
    "In this code, we analyze the sales data for the entire Fast Food category. First, we filter the original DataFrame to create a new one that includes only the rows where the item_type is \"(selected_Fastfood)\". Then, we aggregate the sales data by month using the resample() method to calculate the total transaction_amount for each month, effectively summing the sales figures. Finally, we reset the index to convert the monthly dates back into a regular column, making the DataFrame easier to work with for further analysis or visualization. This process allows us to examine the monthly sales trends specifically for the Fast Food category."
   ]
  },
  {
   "cell_type": "code",
   "execution_count": 30,
   "id": "86f5be85",
   "metadata": {
    "execution": {
     "iopub.execute_input": "2024-10-20T14:18:31.597856Z",
     "iopub.status.busy": "2024-10-20T14:18:31.597399Z",
     "iopub.status.idle": "2024-10-20T14:18:31.609824Z",
     "shell.execute_reply": "2024-10-20T14:18:31.608594Z"
    },
    "papermill": {
     "duration": 0.061953,
     "end_time": "2024-10-20T14:18:31.612561",
     "exception": false,
     "start_time": "2024-10-20T14:18:31.550608",
     "status": "completed"
    },
    "tags": []
   },
   "outputs": [],
   "source": [
    "aalopuri = df[df['item_name'] == 'Aalopuri']\n",
    "aalopuri = aalopuri['transaction_amount'].resample('ME').sum()\n",
    "aalopuri = aalopuri.reset_index()\n"
   ]
  },
  {
   "cell_type": "code",
   "execution_count": 31,
   "id": "cbd02d20",
   "metadata": {
    "execution": {
     "iopub.execute_input": "2024-10-20T14:18:31.705782Z",
     "iopub.status.busy": "2024-10-20T14:18:31.704610Z",
     "iopub.status.idle": "2024-10-20T14:18:31.716444Z",
     "shell.execute_reply": "2024-10-20T14:18:31.715380Z"
    },
    "papermill": {
     "duration": 0.061189,
     "end_time": "2024-10-20T14:18:31.719038",
     "exception": false,
     "start_time": "2024-10-20T14:18:31.657849",
     "status": "completed"
    },
    "tags": []
   },
   "outputs": [],
   "source": [
    "vadapav = df[df['item_name'] == 'Vadapav']\n",
    "vadapav = vadapav['transaction_amount'].resample('ME').sum()\n",
    "vadapav = vadapav.reset_index()\n"
   ]
  },
  {
   "cell_type": "code",
   "execution_count": 32,
   "id": "4d3c367e",
   "metadata": {
    "execution": {
     "iopub.execute_input": "2024-10-20T14:18:31.811900Z",
     "iopub.status.busy": "2024-10-20T14:18:31.811095Z",
     "iopub.status.idle": "2024-10-20T14:18:31.823450Z",
     "shell.execute_reply": "2024-10-20T14:18:31.822200Z"
    },
    "papermill": {
     "duration": 0.061675,
     "end_time": "2024-10-20T14:18:31.825991",
     "exception": false,
     "start_time": "2024-10-20T14:18:31.764316",
     "status": "completed"
    },
    "tags": []
   },
   "outputs": [],
   "source": [
    "frankie = df[df['item_name'] == 'Frankie']\n",
    "frankie = frankie['transaction_amount'].resample('ME').sum()\n",
    "frankie = frankie.reset_index()\n"
   ]
  },
  {
   "cell_type": "code",
   "execution_count": 33,
   "id": "0f3f9fb7",
   "metadata": {
    "execution": {
     "iopub.execute_input": "2024-10-20T14:18:31.917970Z",
     "iopub.status.busy": "2024-10-20T14:18:31.917526Z",
     "iopub.status.idle": "2024-10-20T14:18:31.929565Z",
     "shell.execute_reply": "2024-10-20T14:18:31.928363Z"
    },
    "papermill": {
     "duration": 0.06139,
     "end_time": "2024-10-20T14:18:31.932548",
     "exception": false,
     "start_time": "2024-10-20T14:18:31.871158",
     "status": "completed"
    },
    "tags": []
   },
   "outputs": [],
   "source": [
    "sandwich = df[df['item_name'] == 'Sandwich']\n",
    "sandwich = sandwich['transaction_amount'].resample('ME').sum()\n",
    "sandwich = sandwich.reset_index()\n",
    "\n"
   ]
  },
  {
   "cell_type": "code",
   "execution_count": 34,
   "id": "a833bf81",
   "metadata": {
    "execution": {
     "iopub.execute_input": "2024-10-20T14:18:32.025147Z",
     "iopub.status.busy": "2024-10-20T14:18:32.024662Z",
     "iopub.status.idle": "2024-10-20T14:18:32.037308Z",
     "shell.execute_reply": "2024-10-20T14:18:32.035991Z"
    },
    "papermill": {
     "duration": 0.061945,
     "end_time": "2024-10-20T14:18:32.040040",
     "exception": false,
     "start_time": "2024-10-20T14:18:31.978095",
     "status": "completed"
    },
    "tags": []
   },
   "outputs": [],
   "source": [
    "panipuri = df[df['item_name'] == 'Panipuri']\n",
    "panipuri = panipuri['transaction_amount'].resample('ME').sum()\n",
    "panipuri = panipuri.reset_index()\n"
   ]
  },
  {
   "cell_type": "markdown",
   "id": "b061955a",
   "metadata": {
    "papermill": {
     "duration": 0.047362,
     "end_time": "2024-10-20T14:18:32.133074",
     "exception": false,
     "start_time": "2024-10-20T14:18:32.085712",
     "status": "completed"
    },
    "tags": []
   },
   "source": [
    "This code creates a line plot to compare the monthly sales of five fast food items: Panipuri, Sandwich, Frankie, Vadapav, and Aalopuri. Each line represents the sales trends over the period from May 2022 to April 2023, with data points marked for clarity. The plot includes a title for context, rotated x-axis ticks for readability, and grid lines for visual structure. A legend identifies each item, and the final line displays the plot for analysis."
   ]
  },
  {
   "cell_type": "code",
   "execution_count": 35,
   "id": "a6e3a2f4",
   "metadata": {
    "execution": {
     "iopub.execute_input": "2024-10-20T14:18:32.225890Z",
     "iopub.status.busy": "2024-10-20T14:18:32.225399Z",
     "iopub.status.idle": "2024-10-20T14:18:32.750559Z",
     "shell.execute_reply": "2024-10-20T14:18:32.749377Z"
    },
    "papermill": {
     "duration": 0.575758,
     "end_time": "2024-10-20T14:18:32.754627",
     "exception": false,
     "start_time": "2024-10-20T14:18:32.178869",
     "status": "completed"
    },
    "tags": []
   },
   "outputs": [
    {
     "data": {
      "image/png": "[encoded data removed]",
      "text/plain": [
       "<Figure size 2000x600 with 1 Axes>"
      ]
     },
     "metadata": {},
     "output_type": "display_data"
    }
   ],
   "source": [
    "plt.figure(figsize=(20,6))\n",
    "plt.plot(panipuri.date, panipuri['transaction_amount'], marker = 'o', label = 'Panipuri')\n",
    "plt.plot(sandwich.date, sandwich['transaction_amount'], marker = 'o', label = 'Sandwich')\n",
    "plt.plot(frankie.date, frankie['transaction_amount'], marker = 'o', label = 'Frankie')\n",
    "plt.plot(vadapav.date, vadapav['transaction_amount'], marker = 'o', label = 'Vadapav')\n",
    "plt.plot(aalopuri.date, aalopuri['transaction_amount'], marker = 'o', label = 'Aalopuri')\n",
    "plt.title('Fast Food Monthly Sales Comparison(From 2022-05 To 2023-04)')\n",
    "plt.xticks(panipuri.date, rotation=45)\n",
    "plt.grid(True)\n",
    "plt.legend()\n",
    "plt.show();"
   ]
  },
  {
   "cell_type": "markdown",
   "id": "ca68f090",
   "metadata": {
    "papermill": {
     "duration": 0.048377,
     "end_time": "2024-10-20T14:18:32.852270",
     "exception": false,
     "start_time": "2024-10-20T14:18:32.803893",
     "status": "completed"
    },
    "tags": []
   },
   "source": [
    "We can categorize the fast food items into two groups based on their sales patterns. The first group includes Vadapav, Panipuri, and Aalopuri, which generally exhibit a stable trend, fluctuating between 1,000 and 4,000 throughout the period. In contrast, Frankie and Sandwich make up the second group, characterized by more pronounced fluctuations. Notably, these two consistently rank as the top contributors to revenue in the fast food category. For instance, in April 2022, Sandwich stood out as the only item generating over 7,000 in revenue, while the others hovered around 1,000 to 2,000. Frankie, despite performing well overall, was the least profitable item in August 2022. Interestingly, Sandwich reached its peak in January 2023, with revenue soaring to approximately 8,500, closely followed by Frankie, which surpassed 8,000 in February 2023."
   ]
  },
  {
   "cell_type": "markdown",
   "id": "e9c1f5d6",
   "metadata": {
    "papermill": {
     "duration": 0.047951,
     "end_time": "2024-10-20T14:18:32.948407",
     "exception": false,
     "start_time": "2024-10-20T14:18:32.900456",
     "status": "completed"
    },
    "tags": []
   },
   "source": [
    "Insights for the owner reveal that Vadapav, Panipuri, and Aalopuri maintain stable sales patterns, indicating potential for promotional efforts to increase revenue. In contrast, Frankie and Sandwich exhibit more significant fluctuations, highlighting opportunities for targeted marketing strategies. The peak in Sandwich sales in January suggests that seasonal trends could be leveraged for higher sales. By focusing on these insights, the restaurant can optimize menu offerings and enhance customer satisfaction, ultimately driving greater profitability."
   ]
  },
  {
   "cell_type": "markdown",
   "id": "4c36371c",
   "metadata": {
    "papermill": {
     "duration": 0.048422,
     "end_time": "2024-10-20T14:18:33.045225",
     "exception": false,
     "start_time": "2024-10-20T14:18:32.996803",
     "status": "completed"
    },
    "tags": []
   },
   "source": [
    "<h3>Transaction Type Analysis</h3>"
   ]
  },
  {
   "cell_type": "markdown",
   "id": "4376148f",
   "metadata": {
    "papermill": {
     "duration": 0.050034,
     "end_time": "2024-10-20T14:18:33.144153",
     "exception": false,
     "start_time": "2024-10-20T14:18:33.094119",
     "status": "completed"
    },
    "tags": []
   },
   "source": [
    "In this section, we will analyze the various payment methods used by customers in our restaurant. Understanding the distribution of payment methods is crucial for assessing customer preferences and optimizing our payment processing systems. To achieve this, we will group our transaction data by transaction_type and sum the corresponding transaction_amount for each method. By sorting the results in ascending order, we will identify which payment methods are the least to most popular among our customers. This analysis will provide valuable insights into customer behavior and help inform strategic decisions regarding payment options offered in the future."
   ]
  },
  {
   "cell_type": "code",
   "execution_count": 36,
   "id": "2df06cb7",
   "metadata": {
    "execution": {
     "iopub.execute_input": "2024-10-20T14:18:33.242246Z",
     "iopub.status.busy": "2024-10-20T14:18:33.241786Z",
     "iopub.status.idle": "2024-10-20T14:18:33.257414Z",
     "shell.execute_reply": "2024-10-20T14:18:33.255951Z"
    },
    "papermill": {
     "duration": 0.067633,
     "end_time": "2024-10-20T14:18:33.259926",
     "exception": false,
     "start_time": "2024-10-20T14:18:33.192293",
     "status": "completed"
    },
    "tags": []
   },
   "outputs": [
    {
     "data": {
      "text/html": [
       "<div>\n",
       "<style scoped>\n",
       "    .dataframe tbody tr th:only-of-type {\n",
       "        vertical-align: middle;\n",
       "    }\n",
       "\n",
       "    .dataframe tbody tr th {\n",
       "        vertical-align: top;\n",
       "    }\n",
       "\n",
       "    .dataframe thead th {\n",
       "        text-align: right;\n",
       "    }\n",
       "</style>\n",
       "<table border=\"1\" class=\"dataframe\">\n",
       "  <thead>\n",
       "    <tr style=\"text-align: right;\">\n",
       "      <th></th>\n",
       "      <th>transaction_type</th>\n",
       "      <th>transaction_amount</th>\n",
       "    </tr>\n",
       "  </thead>\n",
       "  <tbody>\n",
       "    <tr>\n",
       "      <th>1</th>\n",
       "      <td>Credit Card</td>\n",
       "      <td>31795</td>\n",
       "    </tr>\n",
       "    <tr>\n",
       "      <th>2</th>\n",
       "      <td>Online</td>\n",
       "      <td>110595</td>\n",
       "    </tr>\n",
       "    <tr>\n",
       "      <th>0</th>\n",
       "      <td>Cash</td>\n",
       "      <td>132840</td>\n",
       "    </tr>\n",
       "  </tbody>\n",
       "</table>\n",
       "</div>"
      ],
      "text/plain": [
       "  transaction_type  transaction_amount\n",
       "1      Credit Card               31795\n",
       "2           Online              110595\n",
       "0             Cash              132840"
      ]
     },
     "execution_count": 36,
     "metadata": {},
     "output_type": "execute_result"
    }
   ],
   "source": [
    "payment_methods = df.groupby('transaction_type')['transaction_amount'].sum().reset_index()\n",
    "payment_methods = payment_methods.sort_values(by = 'transaction_amount',ascending = True)\n",
    "payment_methods"
   ]
  },
  {
   "cell_type": "markdown",
   "id": "381903aa",
   "metadata": {
    "papermill": {
     "duration": 0.048064,
     "end_time": "2024-10-20T14:18:33.356642",
     "exception": false,
     "start_time": "2024-10-20T14:18:33.308578",
     "status": "completed"
    },
    "tags": []
   },
   "source": [
    "This code creates a pie chart to visualize the distribution of payment methods used by customers in the restaurant. It uses the total transaction amounts for each payment method as the slice sizes, with labels indicating the types of payments (e.g., Cash, Credit Card, Online). The chart displays percentages for clarity and helps assess customer preferences and the significance of each payment method in overall transactions."
   ]
  },
  {
   "cell_type": "code",
   "execution_count": 37,
   "id": "3956630c",
   "metadata": {
    "execution": {
     "iopub.execute_input": "2024-10-20T14:18:33.457751Z",
     "iopub.status.busy": "2024-10-20T14:18:33.456640Z",
     "iopub.status.idle": "2024-10-20T14:18:33.603983Z",
     "shell.execute_reply": "2024-10-20T14:18:33.602292Z"
    },
    "papermill": {
     "duration": 0.202335,
     "end_time": "2024-10-20T14:18:33.608449",
     "exception": false,
     "start_time": "2024-10-20T14:18:33.406114",
     "status": "completed"
    },
    "tags": []
   },
   "outputs": [
    {
     "data": {
      "image/png": "[encoded data removed]",
      "text/plain": [
       "<Figure size 640x480 with 1 Axes>"
      ]
     },
     "metadata": {},
     "output_type": "display_data"
    }
   ],
   "source": [
    "plt.pie(payment_methods['transaction_amount'], labels=payment_methods['transaction_type'], autopct='%1.1f%%', startangle=90)\n",
    "plt.title('Payment Methods Distribution')\n",
    "plt.show()"
   ]
  },
  {
   "cell_type": "markdown",
   "id": "3871f071",
   "metadata": {
    "papermill": {
     "duration": 0.048247,
     "end_time": "2024-10-20T14:18:33.730292",
     "exception": false,
     "start_time": "2024-10-20T14:18:33.682045",
     "status": "completed"
    },
    "tags": []
   },
   "source": [
    "Interpretation: The pie chart reveals the distribution of payment methods used by customers in the restaurant. Cash accounts for 48% of transactions, while online payments constitute 40%. Credit card payments are significantly lower, at just 11%.\n",
    "\n",
    "Insight: The high percentage of cash payments (48%) suggests that a significant portion of customers prefers traditional transaction methods. Online payments are also substantial at 40%, indicating a growing trend in digital transactions. In contrast, the low percentage of credit card usage (11%) may indicate a potential area for growth. The restaurant owner could consider incentivizing credit card payments through discounts or loyalty programs to increase their usage and streamline transaction processing."
   ]
  },
  {
   "cell_type": "markdown",
   "id": "0ec01363",
   "metadata": {
    "papermill": {
     "duration": 0.048392,
     "end_time": "2024-10-20T14:18:33.827461",
     "exception": false,
     "start_time": "2024-10-20T14:18:33.779069",
     "status": "completed"
    },
    "tags": []
   },
   "source": [
    "<h3>Transaction by Gender Analysis</h3>"
   ]
  },
  {
   "cell_type": "markdown",
   "id": "1acd2ad3",
   "metadata": {
    "papermill": {
     "duration": 0.048333,
     "end_time": "2024-10-20T14:18:33.924719",
     "exception": false,
     "start_time": "2024-10-20T14:18:33.876386",
     "status": "completed"
    },
    "tags": []
   },
   "source": [
    "In this analysis, we will examine the transaction data categorized by gender. By evaluating the sales figures attributed to male and female staff, we can gain insights into customer preferences and spending behaviors. Understanding how gender influences transactions can help the restaurant tailor its marketing strategies and enhance customer engagement, ultimately leading to improved sales performance."
   ]
  },
  {
   "cell_type": "markdown",
   "id": "54567c74",
   "metadata": {
    "papermill": {
     "duration": 0.048278,
     "end_time": "2024-10-20T14:18:34.021661",
     "exception": false,
     "start_time": "2024-10-20T14:18:33.973383",
     "status": "completed"
    },
    "tags": []
   },
   "source": [
    "This code groups the transaction data by the \"received_by\" column, summing the transaction amounts for each gender. The reset_index() method converts the result back into a DataFrame, resulting in gender_sales, which shows total sales by gender."
   ]
  },
  {
   "cell_type": "code",
   "execution_count": 38,
   "id": "dcbf9bfe",
   "metadata": {
    "execution": {
     "iopub.execute_input": "2024-10-20T14:18:34.121922Z",
     "iopub.status.busy": "2024-10-20T14:18:34.121494Z",
     "iopub.status.idle": "2024-10-20T14:18:34.137284Z",
     "shell.execute_reply": "2024-10-20T14:18:34.135930Z"
    },
    "papermill": {
     "duration": 0.069455,
     "end_time": "2024-10-20T14:18:34.139927",
     "exception": false,
     "start_time": "2024-10-20T14:18:34.070472",
     "status": "completed"
    },
    "tags": []
   },
   "outputs": [
    {
     "data": {
      "text/html": [
       "<div>\n",
       "<style scoped>\n",
       "    .dataframe tbody tr th:only-of-type {\n",
       "        vertical-align: middle;\n",
       "    }\n",
       "\n",
       "    .dataframe tbody tr th {\n",
       "        vertical-align: top;\n",
       "    }\n",
       "\n",
       "    .dataframe thead th {\n",
       "        text-align: right;\n",
       "    }\n",
       "</style>\n",
       "<table border=\"1\" class=\"dataframe\">\n",
       "  <thead>\n",
       "    <tr style=\"text-align: right;\">\n",
       "      <th></th>\n",
       "      <th>received_by</th>\n",
       "      <th>transaction_amount</th>\n",
       "    </tr>\n",
       "  </thead>\n",
       "  <tbody>\n",
       "    <tr>\n",
       "      <th>0</th>\n",
       "      <td>Female</td>\n",
       "      <td>131790</td>\n",
       "    </tr>\n",
       "    <tr>\n",
       "      <th>1</th>\n",
       "      <td>Male</td>\n",
       "      <td>143440</td>\n",
       "    </tr>\n",
       "  </tbody>\n",
       "</table>\n",
       "</div>"
      ],
      "text/plain": [
       "  received_by  transaction_amount\n",
       "0      Female              131790\n",
       "1        Male              143440"
      ]
     },
     "execution_count": 38,
     "metadata": {},
     "output_type": "execute_result"
    }
   ],
   "source": [
    "gender_sales = df.groupby('received_by')['transaction_amount'].sum().reset_index()\n",
    "gender_sales"
   ]
  },
  {
   "cell_type": "markdown",
   "id": "6ea2c250",
   "metadata": {
    "papermill": {
     "duration": 0.049209,
     "end_time": "2024-10-20T14:18:34.238234",
     "exception": false,
     "start_time": "2024-10-20T14:18:34.189025",
     "status": "completed"
    },
    "tags": []
   },
   "source": []
  },
  {
   "cell_type": "code",
   "execution_count": null,
   "id": "4d2e06ca",
   "metadata": {
    "papermill": {
     "duration": 0.049141,
     "end_time": "2024-10-20T14:18:34.337105",
     "exception": false,
     "start_time": "2024-10-20T14:18:34.287964",
     "status": "completed"
    },
    "tags": []
   },
   "outputs": [],
   "source": []
  },
  {
   "cell_type": "markdown",
   "id": "bc323637",
   "metadata": {
    "papermill": {
     "duration": 0.04856,
     "end_time": "2024-10-20T14:18:34.435459",
     "exception": false,
     "start_time": "2024-10-20T14:18:34.386899",
     "status": "completed"
    },
    "tags": []
   },
   "source": [
    "This code generates a pie chart illustrating the sales distribution by gender, displaying percentages and labeling each slice accordingly."
   ]
  },
  {
   "cell_type": "code",
   "execution_count": 39,
   "id": "07c515b3",
   "metadata": {
    "execution": {
     "iopub.execute_input": "2024-10-20T14:18:34.535987Z",
     "iopub.status.busy": "2024-10-20T14:18:34.535510Z",
     "iopub.status.idle": "2024-10-20T14:18:34.676718Z",
     "shell.execute_reply": "2024-10-20T14:18:34.675070Z"
    },
    "papermill": {
     "duration": 0.195261,
     "end_time": "2024-10-20T14:18:34.679432",
     "exception": false,
     "start_time": "2024-10-20T14:18:34.484171",
     "status": "completed"
    },
    "tags": []
   },
   "outputs": [
    {
     "data": {
      "image/png": "[encoded data removed]",
      "text/plain": [
       "<Figure size 640x480 with 1 Axes>"
      ]
     },
     "metadata": {},
     "output_type": "display_data"
    }
   ],
   "source": [
    "plt.pie(gender_sales['transaction_amount'], labels=gender_sales['received_by'], autopct='%1.1f%%', startangle=90)\n",
    "plt.title('Sales by Gender')\n",
    "plt.show()"
   ]
  },
  {
   "cell_type": "markdown",
   "id": "7b999acf",
   "metadata": {
    "papermill": {
     "duration": 0.049694,
     "end_time": "2024-10-20T14:18:34.779218",
     "exception": false,
     "start_time": "2024-10-20T14:18:34.729524",
     "status": "completed"
    },
    "tags": []
   },
   "source": [
    "The analysis reveals a nearly equal distribution of sales by gender, with males accounting for 52% and females for 48%. This indicates a balanced customer base in terms of gender representation."
   ]
  },
  {
   "cell_type": "markdown",
   "id": "26d7cbda",
   "metadata": {
    "papermill": {
     "duration": 0.049938,
     "end_time": "2024-10-20T14:18:34.879120",
     "exception": false,
     "start_time": "2024-10-20T14:18:34.829182",
     "status": "completed"
    },
    "tags": []
   },
   "source": [
    "Building on the insights from our previous pie chart, which revealed a near-even split in sales between male and female customers, we now delve deeper into the revenue generated per product by the gender of the sales agent. This is to see if there are some products that are sold more by a specific gender of the person handling the transaction."
   ]
  },
  {
   "cell_type": "markdown",
   "id": "dd8f8e2f",
   "metadata": {
    "papermill": {
     "duration": 0.049492,
     "end_time": "2024-10-20T14:18:34.979414",
     "exception": false,
     "start_time": "2024-10-20T14:18:34.929922",
     "status": "completed"
    },
    "tags": []
   },
   "source": [
    "We will create a side-by-side bar chart to effectively compare the sales performance of each product by gender. This visual format will allow for immediate visual differentiation between male and female sales agents for each item, making it easy to identify patterns and trends at a glance. Side-by-side comparisons will be particularly useful in this context, as they will enable us to quickly assess which gender is driving sales for specific products, highlighting potential areas for targeted marketing and inventory decisions. "
   ]
  },
  {
   "cell_type": "code",
   "execution_count": 40,
   "id": "ac96c360",
   "metadata": {
    "execution": {
     "iopub.execute_input": "2024-10-20T14:18:35.080205Z",
     "iopub.status.busy": "2024-10-20T14:18:35.079700Z",
     "iopub.status.idle": "2024-10-20T14:18:35.087180Z",
     "shell.execute_reply": "2024-10-20T14:18:35.085966Z"
    },
    "papermill": {
     "duration": 0.060647,
     "end_time": "2024-10-20T14:18:35.089720",
     "exception": false,
     "start_time": "2024-10-20T14:18:35.029073",
     "status": "completed"
    },
    "tags": []
   },
   "outputs": [],
   "source": [
    "female = df[df['received_by'] == 'Female']\n"
   ]
  },
  {
   "cell_type": "code",
   "execution_count": 41,
   "id": "b8e1cbfd",
   "metadata": {
    "execution": {
     "iopub.execute_input": "2024-10-20T14:18:35.193130Z",
     "iopub.status.busy": "2024-10-20T14:18:35.192032Z",
     "iopub.status.idle": "2024-10-20T14:18:35.200931Z",
     "shell.execute_reply": "2024-10-20T14:18:35.199686Z"
    },
    "papermill": {
     "duration": 0.063075,
     "end_time": "2024-10-20T14:18:35.203681",
     "exception": false,
     "start_time": "2024-10-20T14:18:35.140606",
     "status": "completed"
    },
    "tags": []
   },
   "outputs": [],
   "source": [
    "female = female.groupby('item_name')['transaction_amount'].sum().reset_index().sort_values(by = 'transaction_amount',ascending = False)\n"
   ]
  },
  {
   "cell_type": "code",
   "execution_count": 42,
   "id": "8c4d0c3a",
   "metadata": {
    "execution": {
     "iopub.execute_input": "2024-10-20T14:18:35.305818Z",
     "iopub.status.busy": "2024-10-20T14:18:35.305361Z",
     "iopub.status.idle": "2024-10-20T14:18:35.312884Z",
     "shell.execute_reply": "2024-10-20T14:18:35.311606Z"
    },
    "papermill": {
     "duration": 0.062282,
     "end_time": "2024-10-20T14:18:35.315563",
     "exception": false,
     "start_time": "2024-10-20T14:18:35.253281",
     "status": "completed"
    },
    "tags": []
   },
   "outputs": [],
   "source": [
    "male = df[df['received_by'] == 'Male']\n"
   ]
  },
  {
   "cell_type": "code",
   "execution_count": 43,
   "id": "3d300c5a",
   "metadata": {
    "execution": {
     "iopub.execute_input": "2024-10-20T14:18:35.416822Z",
     "iopub.status.busy": "2024-10-20T14:18:35.416407Z",
     "iopub.status.idle": "2024-10-20T14:18:35.425543Z",
     "shell.execute_reply": "2024-10-20T14:18:35.424082Z"
    },
    "papermill": {
     "duration": 0.063069,
     "end_time": "2024-10-20T14:18:35.428193",
     "exception": false,
     "start_time": "2024-10-20T14:18:35.365124",
     "status": "completed"
    },
    "tags": []
   },
   "outputs": [],
   "source": [
    "male = male.groupby('item_name')['transaction_amount'].sum().reset_index().sort_values(by = 'transaction_amount',ascending = False)\n"
   ]
  },
  {
   "cell_type": "code",
   "execution_count": null,
   "id": "5c49cf60",
   "metadata": {
    "papermill": {
     "duration": 0.050821,
     "end_time": "2024-10-20T14:18:35.528762",
     "exception": false,
     "start_time": "2024-10-20T14:18:35.477941",
     "status": "completed"
    },
    "tags": []
   },
   "outputs": [],
   "source": []
  },
  {
   "cell_type": "code",
   "execution_count": 44,
   "id": "11471d0b",
   "metadata": {
    "execution": {
     "iopub.execute_input": "2024-10-20T14:18:35.630251Z",
     "iopub.status.busy": "2024-10-20T14:18:35.629795Z",
     "iopub.status.idle": "2024-10-20T14:18:35.924771Z",
     "shell.execute_reply": "2024-10-20T14:18:35.923504Z"
    },
    "papermill": {
     "duration": 0.349187,
     "end_time": "2024-10-20T14:18:35.927669",
     "exception": false,
     "start_time": "2024-10-20T14:18:35.578482",
     "status": "completed"
    },
    "tags": []
   },
   "outputs": [
    {
     "data": {
      "image/png": "[encoded data removed]",
      "text/plain": [
       "<Figure size 640x480 with 1 Axes>"
      ]
     },
     "metadata": {},
     "output_type": "display_data"
    }
   ],
   "source": [
    "\n",
    "bar_width = 0.35\n",
    "x_male = range(len(male))\n",
    "x_female = [x + bar_width for x in x_male]\n",
    "\n",
    "plt.bar(x_male, male['transaction_amount'], label='Male', alpha=0.7, width = bar_width)\n",
    "plt.bar(x_female, female['transaction_amount'], label='Female', alpha=0.7, width = bar_width)\n",
    "plt.xticks(x_male,male['item_name'], rotation = 45)\n",
    "\n",
    "plt.title('Product Sales by Gender')\n",
    "plt.legend()\n",
    "plt.show()"
   ]
  },
  {
   "cell_type": "markdown",
   "id": "2174c374",
   "metadata": {
    "papermill": {
     "duration": 0.050058,
     "end_time": "2024-10-20T14:18:36.029621",
     "exception": false,
     "start_time": "2024-10-20T14:18:35.979563",
     "status": "completed"
    },
    "tags": []
   },
   "source": [
    "The analysis shows that there are no significant differences in sales results between genders, except for sandwiches, where males generated 5,000 more in sales than females. Overall, the sales performance remains consistent across all products."
   ]
  },
  {
   "cell_type": "markdown",
   "id": "81215067",
   "metadata": {
    "papermill": {
     "duration": 0.05386,
     "end_time": "2024-10-20T14:18:36.134681",
     "exception": false,
     "start_time": "2024-10-20T14:18:36.080821",
     "status": "completed"
    },
    "tags": []
   },
   "source": [
    "<h3>Time of Day Analysis</h3>"
   ]
  },
  {
   "cell_type": "markdown",
   "id": "0eaf409e",
   "metadata": {
    "papermill": {
     "duration": 0.051828,
     "end_time": "2024-10-20T14:18:36.240335",
     "exception": false,
     "start_time": "2024-10-20T14:18:36.188507",
     "status": "completed"
    },
    "tags": []
   },
   "source": [
    "In this section, we will analyze how the sales of each product fluctuate based on different times of the day. By examining the transaction amounts for various items like sandwiches, beverages, and fast food options, we aim to identify any significant patterns or trends. This will help us understand which products perform best during specific time periods, potentially guiding decisions for inventory management and targeted promotions."
   ]
  },
  {
   "cell_type": "markdown",
   "id": "9889a121",
   "metadata": {
    "papermill": {
     "duration": 0.049816,
     "end_time": "2024-10-20T14:18:36.341443",
     "exception": false,
     "start_time": "2024-10-20T14:18:36.291627",
     "status": "completed"
    },
    "tags": []
   },
   "source": [
    "_"
   ]
  },
  {
   "cell_type": "markdown",
   "id": "d1b36520",
   "metadata": {
    "papermill": {
     "duration": 0.050334,
     "end_time": "2024-10-20T14:18:36.442786",
     "exception": false,
     "start_time": "2024-10-20T14:18:36.392452",
     "status": "completed"
    },
    "tags": []
   },
   "source": [
    "In this code, we are analyzing the sales of sandwiches based on the time of day. Here's a breakdown of the steps:\n",
    "\n",
    "Filter for Sandwich Sales: We first create a subset of the dataframe (df) that includes only the transactions where the item sold is a sandwich.\n",
    "\n",
    "Group by Time of Sale: We group these sandwich sales by the time_of_sale column and sum the transaction_amount for each time period. This gives us the total revenue for sandwiches during each time of day.\n",
    "\n",
    "Set Categorical Order: We then set the time_of_sale as a categorical variable, using the specified time_order list, which defines the order in which the time periods should appear (Morning, Afternoon, Evening, etc.).\n",
    "\n",
    "Sort by Time of Sale: Finally, we sort the sandwich sales data based on this ordered time category to ensure that the data is displayed in the correct chronological order.\n",
    "\n",
    "We will repeat this process for all other products to analyze their sales patterns throughout the day."
   ]
  },
  {
   "cell_type": "code",
   "execution_count": 45,
   "id": "1c6dc5d1",
   "metadata": {
    "execution": {
     "iopub.execute_input": "2024-10-20T14:18:36.547101Z",
     "iopub.status.busy": "2024-10-20T14:18:36.546570Z",
     "iopub.status.idle": "2024-10-20T14:18:36.567443Z",
     "shell.execute_reply": "2024-10-20T14:18:36.566118Z"
    },
    "papermill": {
     "duration": 0.076695,
     "end_time": "2024-10-20T14:18:36.569934",
     "exception": false,
     "start_time": "2024-10-20T14:18:36.493239",
     "status": "completed"
    },
    "tags": []
   },
   "outputs": [
    {
     "data": {
      "text/html": [
       "<div>\n",
       "<style scoped>\n",
       "    .dataframe tbody tr th:only-of-type {\n",
       "        vertical-align: middle;\n",
       "    }\n",
       "\n",
       "    .dataframe tbody tr th {\n",
       "        vertical-align: top;\n",
       "    }\n",
       "\n",
       "    .dataframe thead th {\n",
       "        text-align: right;\n",
       "    }\n",
       "</style>\n",
       "<table border=\"1\" class=\"dataframe\">\n",
       "  <thead>\n",
       "    <tr style=\"text-align: right;\">\n",
       "      <th></th>\n",
       "      <th>time_of_sale</th>\n",
       "      <th>transaction_amount</th>\n",
       "    </tr>\n",
       "  </thead>\n",
       "  <tbody>\n",
       "    <tr>\n",
       "      <th>3</th>\n",
       "      <td>Morning</td>\n",
       "      <td>14040</td>\n",
       "    </tr>\n",
       "    <tr>\n",
       "      <th>0</th>\n",
       "      <td>Afternoon</td>\n",
       "      <td>9840</td>\n",
       "    </tr>\n",
       "    <tr>\n",
       "      <th>1</th>\n",
       "      <td>Evening</td>\n",
       "      <td>12360</td>\n",
       "    </tr>\n",
       "    <tr>\n",
       "      <th>4</th>\n",
       "      <td>Night</td>\n",
       "      <td>17520</td>\n",
       "    </tr>\n",
       "    <tr>\n",
       "      <th>2</th>\n",
       "      <td>Midnight</td>\n",
       "      <td>12060</td>\n",
       "    </tr>\n",
       "  </tbody>\n",
       "</table>\n",
       "</div>"
      ],
      "text/plain": [
       "  time_of_sale  transaction_amount\n",
       "3      Morning               14040\n",
       "0    Afternoon                9840\n",
       "1      Evening               12360\n",
       "4        Night               17520\n",
       "2     Midnight               12060"
      ]
     },
     "execution_count": 45,
     "metadata": {},
     "output_type": "execute_result"
    }
   ],
   "source": [
    "time_order = ['Morning', 'Afternoon', 'Evening', 'Night', 'Midnight']\n",
    "\n",
    "tod_sandwich = df[df['item_name'] == 'Sandwich']\n",
    "tod_sandwich = tod_sandwich.groupby('time_of_sale')['transaction_amount'].sum().reset_index()\n",
    "tod_sandwich['time_of_sale'] = pd.Categorical(tod_sandwich['time_of_sale'], categories=time_order, ordered=True)\n",
    "tod_sandwich = tod_sandwich.sort_values('time_of_sale')\n",
    "tod_sandwich"
   ]
  },
  {
   "cell_type": "code",
   "execution_count": 46,
   "id": "bb0e0da2",
   "metadata": {
    "execution": {
     "iopub.execute_input": "2024-10-20T14:18:36.674102Z",
     "iopub.status.busy": "2024-10-20T14:18:36.672914Z",
     "iopub.status.idle": "2024-10-20T14:18:36.691386Z",
     "shell.execute_reply": "2024-10-20T14:18:36.690072Z"
    },
    "papermill": {
     "duration": 0.073355,
     "end_time": "2024-10-20T14:18:36.693963",
     "exception": false,
     "start_time": "2024-10-20T14:18:36.620608",
     "status": "completed"
    },
    "tags": []
   },
   "outputs": [
    {
     "data": {
      "text/html": [
       "<div>\n",
       "<style scoped>\n",
       "    .dataframe tbody tr th:only-of-type {\n",
       "        vertical-align: middle;\n",
       "    }\n",
       "\n",
       "    .dataframe tbody tr th {\n",
       "        vertical-align: top;\n",
       "    }\n",
       "\n",
       "    .dataframe thead th {\n",
       "        text-align: right;\n",
       "    }\n",
       "</style>\n",
       "<table border=\"1\" class=\"dataframe\">\n",
       "  <thead>\n",
       "    <tr style=\"text-align: right;\">\n",
       "      <th></th>\n",
       "      <th>time_of_sale</th>\n",
       "      <th>transaction_amount</th>\n",
       "    </tr>\n",
       "  </thead>\n",
       "  <tbody>\n",
       "    <tr>\n",
       "      <th>3</th>\n",
       "      <td>Morning</td>\n",
       "      <td>10200</td>\n",
       "    </tr>\n",
       "    <tr>\n",
       "      <th>0</th>\n",
       "      <td>Afternoon</td>\n",
       "      <td>11900</td>\n",
       "    </tr>\n",
       "    <tr>\n",
       "      <th>1</th>\n",
       "      <td>Evening</td>\n",
       "      <td>12000</td>\n",
       "    </tr>\n",
       "    <tr>\n",
       "      <th>4</th>\n",
       "      <td>Night</td>\n",
       "      <td>13500</td>\n",
       "    </tr>\n",
       "    <tr>\n",
       "      <th>2</th>\n",
       "      <td>Midnight</td>\n",
       "      <td>9900</td>\n",
       "    </tr>\n",
       "  </tbody>\n",
       "</table>\n",
       "</div>"
      ],
      "text/plain": [
       "  time_of_sale  transaction_amount\n",
       "3      Morning               10200\n",
       "0    Afternoon               11900\n",
       "1      Evening               12000\n",
       "4        Night               13500\n",
       "2     Midnight                9900"
      ]
     },
     "execution_count": 46,
     "metadata": {},
     "output_type": "execute_result"
    }
   ],
   "source": [
    "tod_frankie = df[df['item_name'] == 'Frankie']\n",
    "tod_frankie = tod_frankie.groupby('time_of_sale')['transaction_amount'].sum().reset_index()\n",
    "tod_frankie['time_of_sale'] = pd.Categorical(tod_frankie['time_of_sale'], categories=time_order, ordered=True)\n",
    "tod_frankie = tod_frankie.sort_values('time_of_sale')\n",
    "tod_frankie"
   ]
  },
  {
   "cell_type": "code",
   "execution_count": 47,
   "id": "233edf04",
   "metadata": {
    "execution": {
     "iopub.execute_input": "2024-10-20T14:18:36.799951Z",
     "iopub.status.busy": "2024-10-20T14:18:36.799527Z",
     "iopub.status.idle": "2024-10-20T14:18:36.818256Z",
     "shell.execute_reply": "2024-10-20T14:18:36.816954Z"
    },
    "papermill": {
     "duration": 0.073928,
     "end_time": "2024-10-20T14:18:36.820804",
     "exception": false,
     "start_time": "2024-10-20T14:18:36.746876",
     "status": "completed"
    },
    "tags": []
   },
   "outputs": [
    {
     "data": {
      "text/html": [
       "<div>\n",
       "<style scoped>\n",
       "    .dataframe tbody tr th:only-of-type {\n",
       "        vertical-align: middle;\n",
       "    }\n",
       "\n",
       "    .dataframe tbody tr th {\n",
       "        vertical-align: top;\n",
       "    }\n",
       "\n",
       "    .dataframe thead th {\n",
       "        text-align: right;\n",
       "    }\n",
       "</style>\n",
       "<table border=\"1\" class=\"dataframe\">\n",
       "  <thead>\n",
       "    <tr style=\"text-align: right;\">\n",
       "      <th></th>\n",
       "      <th>time_of_sale</th>\n",
       "      <th>transaction_amount</th>\n",
       "    </tr>\n",
       "  </thead>\n",
       "  <tbody>\n",
       "    <tr>\n",
       "      <th>3</th>\n",
       "      <td>Morning</td>\n",
       "      <td>4660</td>\n",
       "    </tr>\n",
       "    <tr>\n",
       "      <th>0</th>\n",
       "      <td>Afternoon</td>\n",
       "      <td>4600</td>\n",
       "    </tr>\n",
       "    <tr>\n",
       "      <th>1</th>\n",
       "      <td>Evening</td>\n",
       "      <td>4820</td>\n",
       "    </tr>\n",
       "    <tr>\n",
       "      <th>4</th>\n",
       "      <td>Night</td>\n",
       "      <td>4880</td>\n",
       "    </tr>\n",
       "    <tr>\n",
       "      <th>2</th>\n",
       "      <td>Midnight</td>\n",
       "      <td>5560</td>\n",
       "    </tr>\n",
       "  </tbody>\n",
       "</table>\n",
       "</div>"
      ],
      "text/plain": [
       "  time_of_sale  transaction_amount\n",
       "3      Morning                4660\n",
       "0    Afternoon                4600\n",
       "1      Evening                4820\n",
       "4        Night                4880\n",
       "2     Midnight                5560"
      ]
     },
     "execution_count": 47,
     "metadata": {},
     "output_type": "execute_result"
    }
   ],
   "source": [
    "tod_panipuri = df[df['item_name'] == 'Panipuri']\n",
    "tod_panipuri = tod_panipuri.groupby('time_of_sale')['transaction_amount'].sum().reset_index()\n",
    "tod_panipuri['time_of_sale'] = pd.Categorical(tod_panipuri['time_of_sale'], categories=time_order, ordered=True)\n",
    "tod_panipuri = tod_panipuri.sort_values('time_of_sale')\n",
    "tod_panipuri"
   ]
  },
  {
   "cell_type": "code",
   "execution_count": 48,
   "id": "4a172e0f",
   "metadata": {
    "execution": {
     "iopub.execute_input": "2024-10-20T14:18:36.924913Z",
     "iopub.status.busy": "2024-10-20T14:18:36.924458Z",
     "iopub.status.idle": "2024-10-20T14:18:36.942237Z",
     "shell.execute_reply": "2024-10-20T14:18:36.941056Z"
    },
    "papermill": {
     "duration": 0.072581,
     "end_time": "2024-10-20T14:18:36.944680",
     "exception": false,
     "start_time": "2024-10-20T14:18:36.872099",
     "status": "completed"
    },
    "tags": []
   },
   "outputs": [
    {
     "data": {
      "text/html": [
       "<div>\n",
       "<style scoped>\n",
       "    .dataframe tbody tr th:only-of-type {\n",
       "        vertical-align: middle;\n",
       "    }\n",
       "\n",
       "    .dataframe tbody tr th {\n",
       "        vertical-align: top;\n",
       "    }\n",
       "\n",
       "    .dataframe thead th {\n",
       "        text-align: right;\n",
       "    }\n",
       "</style>\n",
       "<table border=\"1\" class=\"dataframe\">\n",
       "  <thead>\n",
       "    <tr style=\"text-align: right;\">\n",
       "      <th></th>\n",
       "      <th>time_of_sale</th>\n",
       "      <th>transaction_amount</th>\n",
       "    </tr>\n",
       "  </thead>\n",
       "  <tbody>\n",
       "    <tr>\n",
       "      <th>3</th>\n",
       "      <td>Morning</td>\n",
       "      <td>3900</td>\n",
       "    </tr>\n",
       "    <tr>\n",
       "      <th>0</th>\n",
       "      <td>Afternoon</td>\n",
       "      <td>3880</td>\n",
       "    </tr>\n",
       "    <tr>\n",
       "      <th>1</th>\n",
       "      <td>Evening</td>\n",
       "      <td>3980</td>\n",
       "    </tr>\n",
       "    <tr>\n",
       "      <th>4</th>\n",
       "      <td>Night</td>\n",
       "      <td>3660</td>\n",
       "    </tr>\n",
       "    <tr>\n",
       "      <th>2</th>\n",
       "      <td>Midnight</td>\n",
       "      <td>4700</td>\n",
       "    </tr>\n",
       "  </tbody>\n",
       "</table>\n",
       "</div>"
      ],
      "text/plain": [
       "  time_of_sale  transaction_amount\n",
       "3      Morning                3900\n",
       "0    Afternoon                3880\n",
       "1      Evening                3980\n",
       "4        Night                3660\n",
       "2     Midnight                4700"
      ]
     },
     "execution_count": 48,
     "metadata": {},
     "output_type": "execute_result"
    }
   ],
   "source": [
    "tod_vadapav = df[df['item_name'] == 'Vadapav']\n",
    "tod_vadapav = tod_vadapav.groupby('time_of_sale')['transaction_amount'].sum().reset_index()\n",
    "tod_vadapav['time_of_sale'] = pd.Categorical(tod_vadapav['time_of_sale'], categories=time_order, ordered=True)\n",
    "tod_vadapav = tod_vadapav.sort_values('time_of_sale')\n",
    "tod_vadapav"
   ]
  },
  {
   "cell_type": "code",
   "execution_count": 49,
   "id": "651ab593",
   "metadata": {
    "execution": {
     "iopub.execute_input": "2024-10-20T14:18:37.050282Z",
     "iopub.status.busy": "2024-10-20T14:18:37.049822Z",
     "iopub.status.idle": "2024-10-20T14:18:37.067685Z",
     "shell.execute_reply": "2024-10-20T14:18:37.066668Z"
    },
    "papermill": {
     "duration": 0.073946,
     "end_time": "2024-10-20T14:18:37.070163",
     "exception": false,
     "start_time": "2024-10-20T14:18:36.996217",
     "status": "completed"
    },
    "tags": []
   },
   "outputs": [
    {
     "data": {
      "text/html": [
       "<div>\n",
       "<style scoped>\n",
       "    .dataframe tbody tr th:only-of-type {\n",
       "        vertical-align: middle;\n",
       "    }\n",
       "\n",
       "    .dataframe tbody tr th {\n",
       "        vertical-align: top;\n",
       "    }\n",
       "\n",
       "    .dataframe thead th {\n",
       "        text-align: right;\n",
       "    }\n",
       "</style>\n",
       "<table border=\"1\" class=\"dataframe\">\n",
       "  <thead>\n",
       "    <tr style=\"text-align: right;\">\n",
       "      <th></th>\n",
       "      <th>time_of_sale</th>\n",
       "      <th>transaction_amount</th>\n",
       "    </tr>\n",
       "  </thead>\n",
       "  <tbody>\n",
       "    <tr>\n",
       "      <th>3</th>\n",
       "      <td>Morning</td>\n",
       "      <td>4300</td>\n",
       "    </tr>\n",
       "    <tr>\n",
       "      <th>0</th>\n",
       "      <td>Afternoon</td>\n",
       "      <td>4520</td>\n",
       "    </tr>\n",
       "    <tr>\n",
       "      <th>1</th>\n",
       "      <td>Evening</td>\n",
       "      <td>2720</td>\n",
       "    </tr>\n",
       "    <tr>\n",
       "      <th>4</th>\n",
       "      <td>Night</td>\n",
       "      <td>4880</td>\n",
       "    </tr>\n",
       "    <tr>\n",
       "      <th>2</th>\n",
       "      <td>Midnight</td>\n",
       "      <td>4460</td>\n",
       "    </tr>\n",
       "  </tbody>\n",
       "</table>\n",
       "</div>"
      ],
      "text/plain": [
       "  time_of_sale  transaction_amount\n",
       "3      Morning                4300\n",
       "0    Afternoon                4520\n",
       "1      Evening                2720\n",
       "4        Night                4880\n",
       "2     Midnight                4460"
      ]
     },
     "execution_count": 49,
     "metadata": {},
     "output_type": "execute_result"
    }
   ],
   "source": [
    "tod_aalopuri = df[df['item_name'] == 'Aalopuri']\n",
    "tod_aalopuri = tod_aalopuri.groupby('time_of_sale')['transaction_amount'].sum().reset_index()\n",
    "tod_aalopuri['time_of_sale'] = pd.Categorical(tod_aalopuri['time_of_sale'], categories=time_order, ordered=True)\n",
    "tod_aalopuri = tod_aalopuri.sort_values('time_of_sale')\n",
    "tod_aalopuri"
   ]
  },
  {
   "cell_type": "code",
   "execution_count": 50,
   "id": "4d200531",
   "metadata": {
    "execution": {
     "iopub.execute_input": "2024-10-20T14:18:37.176340Z",
     "iopub.status.busy": "2024-10-20T14:18:37.175552Z",
     "iopub.status.idle": "2024-10-20T14:18:37.193469Z",
     "shell.execute_reply": "2024-10-20T14:18:37.192185Z"
    },
    "papermill": {
     "duration": 0.074488,
     "end_time": "2024-10-20T14:18:37.196037",
     "exception": false,
     "start_time": "2024-10-20T14:18:37.121549",
     "status": "completed"
    },
    "tags": []
   },
   "outputs": [
    {
     "data": {
      "text/html": [
       "<div>\n",
       "<style scoped>\n",
       "    .dataframe tbody tr th:only-of-type {\n",
       "        vertical-align: middle;\n",
       "    }\n",
       "\n",
       "    .dataframe tbody tr th {\n",
       "        vertical-align: top;\n",
       "    }\n",
       "\n",
       "    .dataframe thead th {\n",
       "        text-align: right;\n",
       "    }\n",
       "</style>\n",
       "<table border=\"1\" class=\"dataframe\">\n",
       "  <thead>\n",
       "    <tr style=\"text-align: right;\">\n",
       "      <th></th>\n",
       "      <th>time_of_sale</th>\n",
       "      <th>transaction_amount</th>\n",
       "    </tr>\n",
       "  </thead>\n",
       "  <tbody>\n",
       "    <tr>\n",
       "      <th>3</th>\n",
       "      <td>Morning</td>\n",
       "      <td>11480</td>\n",
       "    </tr>\n",
       "    <tr>\n",
       "      <th>0</th>\n",
       "      <td>Afternoon</td>\n",
       "      <td>13480</td>\n",
       "    </tr>\n",
       "    <tr>\n",
       "      <th>1</th>\n",
       "      <td>Evening</td>\n",
       "      <td>9400</td>\n",
       "    </tr>\n",
       "    <tr>\n",
       "      <th>4</th>\n",
       "      <td>Night</td>\n",
       "      <td>11960</td>\n",
       "    </tr>\n",
       "    <tr>\n",
       "      <th>2</th>\n",
       "      <td>Midnight</td>\n",
       "      <td>8120</td>\n",
       "    </tr>\n",
       "  </tbody>\n",
       "</table>\n",
       "</div>"
      ],
      "text/plain": [
       "  time_of_sale  transaction_amount\n",
       "3      Morning               11480\n",
       "0    Afternoon               13480\n",
       "1      Evening                9400\n",
       "4        Night               11960\n",
       "2     Midnight                8120"
      ]
     },
     "execution_count": 50,
     "metadata": {},
     "output_type": "execute_result"
    }
   ],
   "source": [
    "tod_coldcoffee = df[df['item_name'] == 'Cold coffee']\n",
    "tod_coldcoffee = tod_coldcoffee.groupby('time_of_sale')['transaction_amount'].sum().reset_index()\n",
    "tod_coldcoffee['time_of_sale'] = pd.Categorical(tod_coldcoffee['time_of_sale'], categories=time_order, ordered=True)\n",
    "tod_coldcoffee = tod_coldcoffee.sort_values('time_of_sale')\n",
    "tod_coldcoffee"
   ]
  },
  {
   "cell_type": "code",
   "execution_count": 51,
   "id": "cf1e116f",
   "metadata": {
    "execution": {
     "iopub.execute_input": "2024-10-20T14:18:37.301601Z",
     "iopub.status.busy": "2024-10-20T14:18:37.301185Z",
     "iopub.status.idle": "2024-10-20T14:18:37.319448Z",
     "shell.execute_reply": "2024-10-20T14:18:37.318295Z"
    },
    "papermill": {
     "duration": 0.074253,
     "end_time": "2024-10-20T14:18:37.321997",
     "exception": false,
     "start_time": "2024-10-20T14:18:37.247744",
     "status": "completed"
    },
    "tags": []
   },
   "outputs": [
    {
     "data": {
      "text/html": [
       "<div>\n",
       "<style scoped>\n",
       "    .dataframe tbody tr th:only-of-type {\n",
       "        vertical-align: middle;\n",
       "    }\n",
       "\n",
       "    .dataframe tbody tr th {\n",
       "        vertical-align: top;\n",
       "    }\n",
       "\n",
       "    .dataframe thead th {\n",
       "        text-align: right;\n",
       "    }\n",
       "</style>\n",
       "<table border=\"1\" class=\"dataframe\">\n",
       "  <thead>\n",
       "    <tr style=\"text-align: right;\">\n",
       "      <th></th>\n",
       "      <th>time_of_sale</th>\n",
       "      <th>transaction_amount</th>\n",
       "    </tr>\n",
       "  </thead>\n",
       "  <tbody>\n",
       "    <tr>\n",
       "      <th>3</th>\n",
       "      <td>Morning</td>\n",
       "      <td>5150</td>\n",
       "    </tr>\n",
       "    <tr>\n",
       "      <th>0</th>\n",
       "      <td>Afternoon</td>\n",
       "      <td>8125</td>\n",
       "    </tr>\n",
       "    <tr>\n",
       "      <th>1</th>\n",
       "      <td>Evening</td>\n",
       "      <td>7075</td>\n",
       "    </tr>\n",
       "    <tr>\n",
       "      <th>4</th>\n",
       "      <td>Night</td>\n",
       "      <td>5675</td>\n",
       "    </tr>\n",
       "    <tr>\n",
       "      <th>2</th>\n",
       "      <td>Midnight</td>\n",
       "      <td>5925</td>\n",
       "    </tr>\n",
       "  </tbody>\n",
       "</table>\n",
       "</div>"
      ],
      "text/plain": [
       "  time_of_sale  transaction_amount\n",
       "3      Morning                5150\n",
       "0    Afternoon                8125\n",
       "1      Evening                7075\n",
       "4        Night                5675\n",
       "2     Midnight                5925"
      ]
     },
     "execution_count": 51,
     "metadata": {},
     "output_type": "execute_result"
    }
   ],
   "source": [
    "tod_sugarcane = df[df['item_name'] == 'Sugarcane juice']\n",
    "tod_sugarcane = tod_sugarcane.groupby('time_of_sale')['transaction_amount'].sum().reset_index()\n",
    "tod_sugarcane['time_of_sale'] = pd.Categorical(tod_sugarcane['time_of_sale'], categories=time_order, ordered=True)\n",
    "tod_sugarcane = tod_sugarcane.sort_values('time_of_sale')\n",
    "tod_sugarcane"
   ]
  },
  {
   "cell_type": "markdown",
   "id": "daac7c41",
   "metadata": {
    "papermill": {
     "duration": 0.051814,
     "end_time": "2024-10-20T14:18:37.425812",
     "exception": false,
     "start_time": "2024-10-20T14:18:37.373998",
     "status": "completed"
    },
    "tags": []
   },
   "source": [
    "We will use subplots to display all the bar charts in a single figure, allowing for a direct comparison of the sales patterns across different products. This approach helps visualize the data side by side, making it easier to identify trends and differences between the sales performance of various products during different times of the day."
   ]
  },
  {
   "cell_type": "code",
   "execution_count": 52,
   "id": "083cb4ba",
   "metadata": {
    "execution": {
     "iopub.execute_input": "2024-10-20T14:18:37.532519Z",
     "iopub.status.busy": "2024-10-20T14:18:37.531929Z",
     "iopub.status.idle": "2024-10-20T14:18:38.927354Z",
     "shell.execute_reply": "2024-10-20T14:18:38.926060Z"
    },
    "papermill": {
     "duration": 1.452153,
     "end_time": "2024-10-20T14:18:38.930437",
     "exception": false,
     "start_time": "2024-10-20T14:18:37.478284",
     "status": "completed"
    },
    "tags": []
   },
   "outputs": [
    {
     "data": {
      "image/png": "[encoded data removed]",
      "text/plain": [
       "<Figure size 1200x1500 with 8 Axes>"
      ]
     },
     "metadata": {},
     "output_type": "display_data"
    }
   ],
   "source": [
    "fig, ((bar1, bar2), (bar3, bar4), (bar5, bar6), (bar7,_)) = plt.subplots(4, 2, figsize=(12, 15))\n",
    "\n",
    "\n",
    "bar1.bar(tod_sandwich['time_of_sale'], tod_sandwich['transaction_amount'], color='skyblue')\n",
    "bar1.set_title('Sandwich Sales by Time of Day')\n",
    "bar1.grid(alpha = 0.2)\n",
    "\n",
    "\n",
    "\n",
    "bar2.bar(tod_frankie['time_of_sale'], tod_frankie['transaction_amount'], color='lightgreen')\n",
    "bar2.set_title('Frankie Sales by Time of Day')\n",
    "bar2.grid(alpha = 0.2)\n",
    "\n",
    "bar3.bar(tod_panipuri['time_of_sale'], tod_panipuri['transaction_amount'], color='pink')\n",
    "bar3.set_title('Panipuri Sales by Time of Day')\n",
    "bar3.grid(alpha = 0.2)\n",
    "\n",
    "bar4.bar(tod_vadapav['time_of_sale'], tod_vadapav['transaction_amount'], color='coral')\n",
    "bar4.set_title('Vadapav Sales by Time of Day')\n",
    "bar4.grid(alpha = 0.2)\n",
    "\n",
    "bar5.bar(tod_aalopuri['time_of_sale'], tod_aalopuri['transaction_amount'], color='gold')\n",
    "bar5.set_title('Aalopuri Sales by Time of Day')\n",
    "bar5.grid(alpha = 0.2)\n",
    "\n",
    "bar6.bar(tod_sugarcane['time_of_sale'], tod_sugarcane['transaction_amount'], color='indigo')\n",
    "bar6.set_title('Sugarcane juice Sales by Time of Day')\n",
    "bar6.grid(alpha = 0.2)\n",
    "\n",
    "bar7.bar(tod_coldcoffee['time_of_sale'], tod_coldcoffee['transaction_amount'], color='violet')\n",
    "bar7.set_title('Cold Coffee juice Sales by Time of Day')\n",
    "bar7.grid(alpha = 0.2)\n",
    "\n",
    "\n",
    "plt.subplots_adjust(hspace=0.5)\n",
    "plt.show()"
   ]
  },
  {
   "cell_type": "markdown",
   "id": "8453a505",
   "metadata": {
    "papermill": {
     "duration": 0.053845,
     "end_time": "2024-10-20T14:18:39.039281",
     "exception": false,
     "start_time": "2024-10-20T14:18:38.985436",
     "status": "completed"
    },
    "tags": []
   },
   "source": [
    "After plotting the bar charts, we can identify key patterns and trends in sales across different products and times of day. These insights can help the owner make informed decisions, such as targeting marketing efforts during peak selling times, addressing underperforming periods with special promotions, recognizing consistently popular items, and creating cross-promotion opportunities."
   ]
  },
  {
   "cell_type": "markdown",
   "id": "1fe50d3e",
   "metadata": {
    "papermill": {
     "duration": 0.053067,
     "end_time": "2024-10-20T14:18:39.147372",
     "exception": false,
     "start_time": "2024-10-20T14:18:39.094305",
     "status": "completed"
    },
    "tags": []
   },
   "source": [
    "- Sandwiches\n",
    "\n",
    "The sales data for sandwiches indicates that the highest revenue occurs during the Night shift (17,520), followed by the Morning (14,040) and Evening (12,360). The Afternoon and Midnight shifts show lower sales at 9,840 and 12,060, respectively. This peak in Night sales suggests a strong demand for sandwiches among late-night diners, while the lower Afternoon sales highlight an opportunity for targeted promotions to boost revenue during that time."
   ]
  },
  {
   "cell_type": "markdown",
   "id": "12fed551",
   "metadata": {
    "papermill": {
     "duration": 0.053189,
     "end_time": "2024-10-20T14:18:39.255922",
     "exception": false,
     "start_time": "2024-10-20T14:18:39.202733",
     "status": "completed"
    },
    "tags": []
   },
   "source": [
    "- Frankie\n",
    "\n",
    "The sales data for Frankie reveals consistent performance throughout the day, peaking during the Night, followed closely by the Morning. Afternoon and Evening sales remain stable, while Midnight sales are the lowest. This trend indicates Frankie's popularity during evening and night hours, suggesting an opportunity for late-night promotions. "
   ]
  },
  {
   "cell_type": "markdown",
   "id": "7bc004c5",
   "metadata": {
    "papermill": {
     "duration": 0.053124,
     "end_time": "2024-10-20T14:18:39.363045",
     "exception": false,
     "start_time": "2024-10-20T14:18:39.309921",
     "status": "completed"
    },
    "tags": []
   },
   "source": [
    "- Panipuri\n",
    "\n",
    "The sales data for Panipuri reveals a relatively even performance throughout the day, with slight increases in the Evening and Night hours. The Midnight sales are the highest, indicating some popularity during late-night hours."
   ]
  },
  {
   "cell_type": "markdown",
   "id": "2051e3b2",
   "metadata": {
    "papermill": {
     "duration": 0.053206,
     "end_time": "2024-10-20T14:18:39.470825",
     "exception": false,
     "start_time": "2024-10-20T14:18:39.417619",
     "status": "completed"
    },
    "tags": []
   },
   "source": [
    "- Vadapav\n",
    "\n",
    "The sales data for Vadapav shows a fairly consistent performance throughout the day, with a slight increase in the Evening hours. The Midnight sales peak, suggesting that Vadapav enjoys some popularity during late-night snacking. The Morning and Afternoon sales are relatively similar and stable, while the Night sales dip slightly."
   ]
  },
  {
   "cell_type": "markdown",
   "id": "416b1715",
   "metadata": {
    "papermill": {
     "duration": 0.054538,
     "end_time": "2024-10-20T14:18:39.578842",
     "exception": false,
     "start_time": "2024-10-20T14:18:39.524304",
     "status": "completed"
    },
    "tags": []
   },
   "source": [
    "- Aalopuri\n",
    "\n",
    "The sales figures for Aalopuri reveal a varied performance throughout the day, with the highest sales occurring during the Night. The Afternoon sales are slightly above the Morning, while Evening sales significantly drop, suggesting a decline in demand during that time. The Midnight sales are comparable to those in the Afternoon and Morning, indicating that Aalopuri may be a popular choice for late-night diners. Overall, there appears to be a distinct peak in the Night, highlighting a potential opportunity to promote Aalopuri more effectively during the Evening to capture that demand."
   ]
  },
  {
   "cell_type": "markdown",
   "id": "5fc637c2",
   "metadata": {
    "papermill": {
     "duration": 0.053226,
     "end_time": "2024-10-20T14:18:39.686613",
     "exception": false,
     "start_time": "2024-10-20T14:18:39.633387",
     "status": "completed"
    },
    "tags": []
   },
   "source": [
    "- Sugarcane Juice\n",
    "\n",
    "For Sugarcane Juice, the sales reveal that the highest sales occur in the Afternoon, while the lowest sales happen in the Morning. This pattern suggests that demand peaks in the Afternoon, while the Morning shows the least interest. The consistent performance during the Evening and Midnight indicates stable sales throughout those times, allowing for potential targeted marketing strategies during peak hours."
   ]
  },
  {
   "cell_type": "markdown",
   "id": "12c55bb9",
   "metadata": {
    "papermill": {
     "duration": 0.05327,
     "end_time": "2024-10-20T14:18:39.793492",
     "exception": false,
     "start_time": "2024-10-20T14:18:39.740222",
     "status": "completed"
    },
    "tags": []
   },
   "source": [
    "- Cold Coffee\n",
    "\n",
    "For Cold Coffee, sales data shows that the highest revenue occurs in the Afternoon, making it the biggest contributor among the beverages. The Morning sales are also notable, indicating a steady demand early in the day. However, sales decline in the Evening, suggesting reduced demand as the day progresses, and Midnight sales are the lowest, indicating that Cold Coffee is less popular during late-night hours. This trend highlights an opportunity for the owner to capitalize on the peak Afternoon sales"
   ]
  },
  {
   "cell_type": "markdown",
   "id": "70b8ab64",
   "metadata": {
    "papermill": {
     "duration": 0.053294,
     "end_time": "2024-10-20T14:18:39.900232",
     "exception": false,
     "start_time": "2024-10-20T14:18:39.846938",
     "status": "completed"
    },
    "tags": []
   },
   "source": [
    "<h2>Restaurant Sales Report: PROJECT SUMMARY</h2>\n",
    "\n",
    "Project Summary and Conclusion\n",
    "\n",
    "In this project, we undertook a comprehensive analysis of sales data to uncover actionable insights that can guide decision-making for the restaurant. We began by thoroughly cleaning the dataset, ensuring its integrity for subsequent analysis. Utilizing exploratory data analysis (EDA) techniques, we identified trends in product sales and assessed relationships between item prices and quantities ordered.\n",
    "\n",
    "Our analysis revealed valuable insights into revenue generation, allowing us to pinpoint the best-performing products and categories. We employed various visualizations, including bar charts and pie charts, to present our findings in an intuitive manner, making it easier for stakeholders to grasp the key takeaways.\n",
    "\n",
    "In addition to exploring sales patterns, we conducted rigorous data quality checks to identify and address any inconsistencies or outliers that could affect our conclusions. This step was crucial in ensuring the reliability of our analysis.\n",
    "\n",
    "The insights derived from our work led to actionable recommendations aimed at enhancing product offerings and optimizing marketing strategies. By focusing on customer preferences and sales performance, the restaurant can improve customer engagement and drive sales growth.\n",
    "\n",
    "Overall, this project not only highlights the importance of data-driven decision-making but also showcases our ability to navigate the entire data analysis process, from cleaning and exploring data to presenting meaningful insights and recommendations. Thank you for your attention, and we are excited about the potential these findings hold for the restaurant's future success."
   ]
  },
  {
   "cell_type": "code",
   "execution_count": null,
   "id": "c75706fa",
   "metadata": {
    "papermill": {
     "duration": 0.054404,
     "end_time": "2024-10-20T14:18:40.008238",
     "exception": false,
     "start_time": "2024-10-20T14:18:39.953834",
     "status": "completed"
    },
    "tags": []
   },
   "outputs": [],
   "source": []
  }
 ],
 "metadata": {
  "kaggle": {
   "accelerator": "none",
   "dataSources": [
    {
     "datasetId": 3953791,
     "sourceId": 6902974,
     "sourceType": "datasetVersion"
    }
   ],
   "dockerImageVersionId": 30786,
   "isGpuEnabled": false,
   "isInternetEnabled": true,
   "language": "python",
   "sourceType": "notebook"
  },
  "kernelspec": {
   "display_name": "Python 3",
   "language": "python",
   "name": "python3"
  },
  "language_info": {
   "codemirror_mode": {
    "name": "ipython",
    "version": 3
   },
   "file_extension": ".py",
   "mimetype": "text/x-python",
   "name": "python",
   "nbconvert_exporter": "python",
   "pygments_lexer": "ipython3",
   "version": "3.10.14"
  },
  "papermill": {
   "default_parameters": {},
   "duration": 26.463122,
   "end_time": "2024-10-20T14:18:40.788185",
   "environment_variables": {},
   "exception": null,
   "input_path": "__notebook__.ipynb",
   "output_path": "__notebook__.ipynb",
   "parameters": {},
   "start_time": "2024-10-20T14:18:14.325063",
   "version": "2.6.0"
  }
 },
 "nbformat": 4,
 "nbformat_minor": 5
}
